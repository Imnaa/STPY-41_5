{
  "nbformat": 4,
  "nbformat_minor": 0,
  "metadata": {
    "colab": {
      "provenance": []
    },
    "kernelspec": {
      "display_name": "Python 3",
      "language": "python",
      "name": "python3"
    },
    "language_info": {
      "codemirror_mode": {
        "name": "ipython",
        "version": 3
      },
      "file_extension": ".py",
      "mimetype": "text/x-python",
      "name": "python",
      "nbconvert_exporter": "python",
      "pygments_lexer": "ipython3",
      "version": "3.8.3"
    }
  },
  "cells": [
    {
      "cell_type": "markdown",
      "metadata": {
        "id": "nXOA4pGqoi7p"
      },
      "source": [
        "# Задачи классификации и кластеризации\n",
        "\n",
        "Булыгин Олег:  \n",
        "* [LinkedIn](linkedin.com/in/obulygin)  \n",
        "* [Мой канал в ТГ по Python](https://t.me/pythontalk_ru)\n",
        "* [Чат канала](https://t.me/pythontalk_chat)\n",
        "* [Блог в Телетайпе](https://teletype.in/@pythontalk)\n",
        "* [PythonTalk на Кью](https://yandex.ru/q/loves/pythontalk/)"
      ]
    },
    {
      "cell_type": "code",
      "metadata": {
        "id": "-ppToJrUWoJ0"
      },
      "source": [
        "from sklearn.datasets import load_wine\n",
        "import pandas as pd\n",
        "import numpy as np\n",
        "import matplotlib.pyplot as plt"
      ],
      "execution_count": null,
      "outputs": []
    },
    {
      "cell_type": "code",
      "metadata": {
        "id": "cmLC9M6oW2v8"
      },
      "source": [
        "wine = load_wine()"
      ],
      "execution_count": null,
      "outputs": []
    },
    {
      "cell_type": "code",
      "metadata": {
        "id": "7eptbMYNvq0S",
        "colab": {
          "base_uri": "https://localhost:8080/"
        },
        "outputId": "e07dd9d5-9275-47e7-a396-a64cf412f32e"
      },
      "source": [
        "print(wine.DESCR)"
      ],
      "execution_count": null,
      "outputs": [
        {
          "output_type": "stream",
          "name": "stdout",
          "text": [
            ".. _wine_dataset:\n",
            "\n",
            "Wine recognition dataset\n",
            "------------------------\n",
            "\n",
            "**Data Set Characteristics:**\n",
            "\n",
            "    :Number of Instances: 178\n",
            "    :Number of Attributes: 13 numeric, predictive attributes and the class\n",
            "    :Attribute Information:\n",
            " \t\t- Alcohol\n",
            " \t\t- Malic acid\n",
            " \t\t- Ash\n",
            "\t\t- Alcalinity of ash  \n",
            " \t\t- Magnesium\n",
            "\t\t- Total phenols\n",
            " \t\t- Flavanoids\n",
            " \t\t- Nonflavanoid phenols\n",
            " \t\t- Proanthocyanins\n",
            "\t\t- Color intensity\n",
            " \t\t- Hue\n",
            " \t\t- OD280/OD315 of diluted wines\n",
            " \t\t- Proline\n",
            "\n",
            "    - class:\n",
            "            - class_0\n",
            "            - class_1\n",
            "            - class_2\n",
            "\t\t\n",
            "    :Summary Statistics:\n",
            "    \n",
            "    ============================= ==== ===== ======= =====\n",
            "                                   Min   Max   Mean     SD\n",
            "    ============================= ==== ===== ======= =====\n",
            "    Alcohol:                      11.0  14.8    13.0   0.8\n",
            "    Malic Acid:                   0.74  5.80    2.34  1.12\n",
            "    Ash:                          1.36  3.23    2.36  0.27\n",
            "    Alcalinity of Ash:            10.6  30.0    19.5   3.3\n",
            "    Magnesium:                    70.0 162.0    99.7  14.3\n",
            "    Total Phenols:                0.98  3.88    2.29  0.63\n",
            "    Flavanoids:                   0.34  5.08    2.03  1.00\n",
            "    Nonflavanoid Phenols:         0.13  0.66    0.36  0.12\n",
            "    Proanthocyanins:              0.41  3.58    1.59  0.57\n",
            "    Colour Intensity:              1.3  13.0     5.1   2.3\n",
            "    Hue:                          0.48  1.71    0.96  0.23\n",
            "    OD280/OD315 of diluted wines: 1.27  4.00    2.61  0.71\n",
            "    Proline:                       278  1680     746   315\n",
            "    ============================= ==== ===== ======= =====\n",
            "\n",
            "    :Missing Attribute Values: None\n",
            "    :Class Distribution: class_0 (59), class_1 (71), class_2 (48)\n",
            "    :Creator: R.A. Fisher\n",
            "    :Donor: Michael Marshall (MARSHALL%PLU@io.arc.nasa.gov)\n",
            "    :Date: July, 1988\n",
            "\n",
            "This is a copy of UCI ML Wine recognition datasets.\n",
            "https://archive.ics.uci.edu/ml/machine-learning-databases/wine/wine.data\n",
            "\n",
            "The data is the results of a chemical analysis of wines grown in the same\n",
            "region in Italy by three different cultivators. There are thirteen different\n",
            "measurements taken for different constituents found in the three types of\n",
            "wine.\n",
            "\n",
            "Original Owners: \n",
            "\n",
            "Forina, M. et al, PARVUS - \n",
            "An Extendible Package for Data Exploration, Classification and Correlation. \n",
            "Institute of Pharmaceutical and Food Analysis and Technologies,\n",
            "Via Brigata Salerno, 16147 Genoa, Italy.\n",
            "\n",
            "Citation:\n",
            "\n",
            "Lichman, M. (2013). UCI Machine Learning Repository\n",
            "[https://archive.ics.uci.edu/ml]. Irvine, CA: University of California,\n",
            "School of Information and Computer Science. \n",
            "\n",
            ".. topic:: References\n",
            "\n",
            "  (1) S. Aeberhard, D. Coomans and O. de Vel, \n",
            "  Comparison of Classifiers in High Dimensional Settings, \n",
            "  Tech. Rep. no. 92-02, (1992), Dept. of Computer Science and Dept. of  \n",
            "  Mathematics and Statistics, James Cook University of North Queensland. \n",
            "  (Also submitted to Technometrics). \n",
            "\n",
            "  The data was used with many others for comparing various \n",
            "  classifiers. The classes are separable, though only RDA \n",
            "  has achieved 100% correct classification. \n",
            "  (RDA : 100%, QDA 99.4%, LDA 98.9%, 1NN 96.1% (z-transformed data)) \n",
            "  (All results using the leave-one-out technique) \n",
            "\n",
            "  (2) S. Aeberhard, D. Coomans and O. de Vel, \n",
            "  \"THE CLASSIFICATION PERFORMANCE OF RDA\" \n",
            "  Tech. Rep. no. 92-01, (1992), Dept. of Computer Science and Dept. of \n",
            "  Mathematics and Statistics, James Cook University of North Queensland. \n",
            "  (Also submitted to Journal of Chemometrics).\n",
            "\n"
          ]
        }
      ]
    },
    {
      "cell_type": "code",
      "metadata": {
        "id": "7rO21IhnvyIo"
      },
      "source": [
        "# загружаем данные в датафрейм\n",
        "data = pd.DataFrame(wine.data, columns=wine.feature_names)\n",
        "data_class = wine.target"
      ],
      "execution_count": null,
      "outputs": []
    },
    {
      "cell_type": "code",
      "metadata": {
        "id": "M92y_fa2wBjn",
        "colab": {
          "base_uri": "https://localhost:8080/",
          "height": 468
        },
        "outputId": "f29b094d-bf04-4ed1-e5d4-1c83a52206af"
      },
      "source": [
        "data"
      ],
      "execution_count": null,
      "outputs": [
        {
          "output_type": "execute_result",
          "data": {
            "text/plain": [
              "     alcohol  malic_acid   ash  alcalinity_of_ash  magnesium  total_phenols  \\\n",
              "0      14.23        1.71  2.43               15.6      127.0           2.80   \n",
              "1      13.20        1.78  2.14               11.2      100.0           2.65   \n",
              "2      13.16        2.36  2.67               18.6      101.0           2.80   \n",
              "3      14.37        1.95  2.50               16.8      113.0           3.85   \n",
              "4      13.24        2.59  2.87               21.0      118.0           2.80   \n",
              "..       ...         ...   ...                ...        ...            ...   \n",
              "173    13.71        5.65  2.45               20.5       95.0           1.68   \n",
              "174    13.40        3.91  2.48               23.0      102.0           1.80   \n",
              "175    13.27        4.28  2.26               20.0      120.0           1.59   \n",
              "176    13.17        2.59  2.37               20.0      120.0           1.65   \n",
              "177    14.13        4.10  2.74               24.5       96.0           2.05   \n",
              "\n",
              "     flavanoids  nonflavanoid_phenols  proanthocyanins  color_intensity   hue  \\\n",
              "0          3.06                  0.28             2.29             5.64  1.04   \n",
              "1          2.76                  0.26             1.28             4.38  1.05   \n",
              "2          3.24                  0.30             2.81             5.68  1.03   \n",
              "3          3.49                  0.24             2.18             7.80  0.86   \n",
              "4          2.69                  0.39             1.82             4.32  1.04   \n",
              "..          ...                   ...              ...              ...   ...   \n",
              "173        0.61                  0.52             1.06             7.70  0.64   \n",
              "174        0.75                  0.43             1.41             7.30  0.70   \n",
              "175        0.69                  0.43             1.35            10.20  0.59   \n",
              "176        0.68                  0.53             1.46             9.30  0.60   \n",
              "177        0.76                  0.56             1.35             9.20  0.61   \n",
              "\n",
              "     od280/od315_of_diluted_wines  proline  \n",
              "0                            3.92   1065.0  \n",
              "1                            3.40   1050.0  \n",
              "2                            3.17   1185.0  \n",
              "3                            3.45   1480.0  \n",
              "4                            2.93    735.0  \n",
              "..                            ...      ...  \n",
              "173                          1.74    740.0  \n",
              "174                          1.56    750.0  \n",
              "175                          1.56    835.0  \n",
              "176                          1.62    840.0  \n",
              "177                          1.60    560.0  \n",
              "\n",
              "[178 rows x 13 columns]"
            ],
            "text/html": [
              "\n",
              "  <div id=\"df-80fbdcb5-b0ea-4369-acee-72df7a2ee15f\">\n",
              "    <div class=\"colab-df-container\">\n",
              "      <div>\n",
              "<style scoped>\n",
              "    .dataframe tbody tr th:only-of-type {\n",
              "        vertical-align: middle;\n",
              "    }\n",
              "\n",
              "    .dataframe tbody tr th {\n",
              "        vertical-align: top;\n",
              "    }\n",
              "\n",
              "    .dataframe thead th {\n",
              "        text-align: right;\n",
              "    }\n",
              "</style>\n",
              "<table border=\"1\" class=\"dataframe\">\n",
              "  <thead>\n",
              "    <tr style=\"text-align: right;\">\n",
              "      <th></th>\n",
              "      <th>alcohol</th>\n",
              "      <th>malic_acid</th>\n",
              "      <th>ash</th>\n",
              "      <th>alcalinity_of_ash</th>\n",
              "      <th>magnesium</th>\n",
              "      <th>total_phenols</th>\n",
              "      <th>flavanoids</th>\n",
              "      <th>nonflavanoid_phenols</th>\n",
              "      <th>proanthocyanins</th>\n",
              "      <th>color_intensity</th>\n",
              "      <th>hue</th>\n",
              "      <th>od280/od315_of_diluted_wines</th>\n",
              "      <th>proline</th>\n",
              "    </tr>\n",
              "  </thead>\n",
              "  <tbody>\n",
              "    <tr>\n",
              "      <th>0</th>\n",
              "      <td>14.23</td>\n",
              "      <td>1.71</td>\n",
              "      <td>2.43</td>\n",
              "      <td>15.6</td>\n",
              "      <td>127.0</td>\n",
              "      <td>2.80</td>\n",
              "      <td>3.06</td>\n",
              "      <td>0.28</td>\n",
              "      <td>2.29</td>\n",
              "      <td>5.64</td>\n",
              "      <td>1.04</td>\n",
              "      <td>3.92</td>\n",
              "      <td>1065.0</td>\n",
              "    </tr>\n",
              "    <tr>\n",
              "      <th>1</th>\n",
              "      <td>13.20</td>\n",
              "      <td>1.78</td>\n",
              "      <td>2.14</td>\n",
              "      <td>11.2</td>\n",
              "      <td>100.0</td>\n",
              "      <td>2.65</td>\n",
              "      <td>2.76</td>\n",
              "      <td>0.26</td>\n",
              "      <td>1.28</td>\n",
              "      <td>4.38</td>\n",
              "      <td>1.05</td>\n",
              "      <td>3.40</td>\n",
              "      <td>1050.0</td>\n",
              "    </tr>\n",
              "    <tr>\n",
              "      <th>2</th>\n",
              "      <td>13.16</td>\n",
              "      <td>2.36</td>\n",
              "      <td>2.67</td>\n",
              "      <td>18.6</td>\n",
              "      <td>101.0</td>\n",
              "      <td>2.80</td>\n",
              "      <td>3.24</td>\n",
              "      <td>0.30</td>\n",
              "      <td>2.81</td>\n",
              "      <td>5.68</td>\n",
              "      <td>1.03</td>\n",
              "      <td>3.17</td>\n",
              "      <td>1185.0</td>\n",
              "    </tr>\n",
              "    <tr>\n",
              "      <th>3</th>\n",
              "      <td>14.37</td>\n",
              "      <td>1.95</td>\n",
              "      <td>2.50</td>\n",
              "      <td>16.8</td>\n",
              "      <td>113.0</td>\n",
              "      <td>3.85</td>\n",
              "      <td>3.49</td>\n",
              "      <td>0.24</td>\n",
              "      <td>2.18</td>\n",
              "      <td>7.80</td>\n",
              "      <td>0.86</td>\n",
              "      <td>3.45</td>\n",
              "      <td>1480.0</td>\n",
              "    </tr>\n",
              "    <tr>\n",
              "      <th>4</th>\n",
              "      <td>13.24</td>\n",
              "      <td>2.59</td>\n",
              "      <td>2.87</td>\n",
              "      <td>21.0</td>\n",
              "      <td>118.0</td>\n",
              "      <td>2.80</td>\n",
              "      <td>2.69</td>\n",
              "      <td>0.39</td>\n",
              "      <td>1.82</td>\n",
              "      <td>4.32</td>\n",
              "      <td>1.04</td>\n",
              "      <td>2.93</td>\n",
              "      <td>735.0</td>\n",
              "    </tr>\n",
              "    <tr>\n",
              "      <th>...</th>\n",
              "      <td>...</td>\n",
              "      <td>...</td>\n",
              "      <td>...</td>\n",
              "      <td>...</td>\n",
              "      <td>...</td>\n",
              "      <td>...</td>\n",
              "      <td>...</td>\n",
              "      <td>...</td>\n",
              "      <td>...</td>\n",
              "      <td>...</td>\n",
              "      <td>...</td>\n",
              "      <td>...</td>\n",
              "      <td>...</td>\n",
              "    </tr>\n",
              "    <tr>\n",
              "      <th>173</th>\n",
              "      <td>13.71</td>\n",
              "      <td>5.65</td>\n",
              "      <td>2.45</td>\n",
              "      <td>20.5</td>\n",
              "      <td>95.0</td>\n",
              "      <td>1.68</td>\n",
              "      <td>0.61</td>\n",
              "      <td>0.52</td>\n",
              "      <td>1.06</td>\n",
              "      <td>7.70</td>\n",
              "      <td>0.64</td>\n",
              "      <td>1.74</td>\n",
              "      <td>740.0</td>\n",
              "    </tr>\n",
              "    <tr>\n",
              "      <th>174</th>\n",
              "      <td>13.40</td>\n",
              "      <td>3.91</td>\n",
              "      <td>2.48</td>\n",
              "      <td>23.0</td>\n",
              "      <td>102.0</td>\n",
              "      <td>1.80</td>\n",
              "      <td>0.75</td>\n",
              "      <td>0.43</td>\n",
              "      <td>1.41</td>\n",
              "      <td>7.30</td>\n",
              "      <td>0.70</td>\n",
              "      <td>1.56</td>\n",
              "      <td>750.0</td>\n",
              "    </tr>\n",
              "    <tr>\n",
              "      <th>175</th>\n",
              "      <td>13.27</td>\n",
              "      <td>4.28</td>\n",
              "      <td>2.26</td>\n",
              "      <td>20.0</td>\n",
              "      <td>120.0</td>\n",
              "      <td>1.59</td>\n",
              "      <td>0.69</td>\n",
              "      <td>0.43</td>\n",
              "      <td>1.35</td>\n",
              "      <td>10.20</td>\n",
              "      <td>0.59</td>\n",
              "      <td>1.56</td>\n",
              "      <td>835.0</td>\n",
              "    </tr>\n",
              "    <tr>\n",
              "      <th>176</th>\n",
              "      <td>13.17</td>\n",
              "      <td>2.59</td>\n",
              "      <td>2.37</td>\n",
              "      <td>20.0</td>\n",
              "      <td>120.0</td>\n",
              "      <td>1.65</td>\n",
              "      <td>0.68</td>\n",
              "      <td>0.53</td>\n",
              "      <td>1.46</td>\n",
              "      <td>9.30</td>\n",
              "      <td>0.60</td>\n",
              "      <td>1.62</td>\n",
              "      <td>840.0</td>\n",
              "    </tr>\n",
              "    <tr>\n",
              "      <th>177</th>\n",
              "      <td>14.13</td>\n",
              "      <td>4.10</td>\n",
              "      <td>2.74</td>\n",
              "      <td>24.5</td>\n",
              "      <td>96.0</td>\n",
              "      <td>2.05</td>\n",
              "      <td>0.76</td>\n",
              "      <td>0.56</td>\n",
              "      <td>1.35</td>\n",
              "      <td>9.20</td>\n",
              "      <td>0.61</td>\n",
              "      <td>1.60</td>\n",
              "      <td>560.0</td>\n",
              "    </tr>\n",
              "  </tbody>\n",
              "</table>\n",
              "<p>178 rows × 13 columns</p>\n",
              "</div>\n",
              "      <button class=\"colab-df-convert\" onclick=\"convertToInteractive('df-80fbdcb5-b0ea-4369-acee-72df7a2ee15f')\"\n",
              "              title=\"Convert this dataframe to an interactive table.\"\n",
              "              style=\"display:none;\">\n",
              "        \n",
              "  <svg xmlns=\"http://www.w3.org/2000/svg\" height=\"24px\"viewBox=\"0 0 24 24\"\n",
              "       width=\"24px\">\n",
              "    <path d=\"M0 0h24v24H0V0z\" fill=\"none\"/>\n",
              "    <path d=\"M18.56 5.44l.94 2.06.94-2.06 2.06-.94-2.06-.94-.94-2.06-.94 2.06-2.06.94zm-11 1L8.5 8.5l.94-2.06 2.06-.94-2.06-.94L8.5 2.5l-.94 2.06-2.06.94zm10 10l.94 2.06.94-2.06 2.06-.94-2.06-.94-.94-2.06-.94 2.06-2.06.94z\"/><path d=\"M17.41 7.96l-1.37-1.37c-.4-.4-.92-.59-1.43-.59-.52 0-1.04.2-1.43.59L10.3 9.45l-7.72 7.72c-.78.78-.78 2.05 0 2.83L4 21.41c.39.39.9.59 1.41.59.51 0 1.02-.2 1.41-.59l7.78-7.78 2.81-2.81c.8-.78.8-2.07 0-2.86zM5.41 20L4 18.59l7.72-7.72 1.47 1.35L5.41 20z\"/>\n",
              "  </svg>\n",
              "      </button>\n",
              "      \n",
              "  <style>\n",
              "    .colab-df-container {\n",
              "      display:flex;\n",
              "      flex-wrap:wrap;\n",
              "      gap: 12px;\n",
              "    }\n",
              "\n",
              "    .colab-df-convert {\n",
              "      background-color: #E8F0FE;\n",
              "      border: none;\n",
              "      border-radius: 50%;\n",
              "      cursor: pointer;\n",
              "      display: none;\n",
              "      fill: #1967D2;\n",
              "      height: 32px;\n",
              "      padding: 0 0 0 0;\n",
              "      width: 32px;\n",
              "    }\n",
              "\n",
              "    .colab-df-convert:hover {\n",
              "      background-color: #E2EBFA;\n",
              "      box-shadow: 0px 1px 2px rgba(60, 64, 67, 0.3), 0px 1px 3px 1px rgba(60, 64, 67, 0.15);\n",
              "      fill: #174EA6;\n",
              "    }\n",
              "\n",
              "    [theme=dark] .colab-df-convert {\n",
              "      background-color: #3B4455;\n",
              "      fill: #D2E3FC;\n",
              "    }\n",
              "\n",
              "    [theme=dark] .colab-df-convert:hover {\n",
              "      background-color: #434B5C;\n",
              "      box-shadow: 0px 1px 3px 1px rgba(0, 0, 0, 0.15);\n",
              "      filter: drop-shadow(0px 1px 2px rgba(0, 0, 0, 0.3));\n",
              "      fill: #FFFFFF;\n",
              "    }\n",
              "  </style>\n",
              "\n",
              "      <script>\n",
              "        const buttonEl =\n",
              "          document.querySelector('#df-80fbdcb5-b0ea-4369-acee-72df7a2ee15f button.colab-df-convert');\n",
              "        buttonEl.style.display =\n",
              "          google.colab.kernel.accessAllowed ? 'block' : 'none';\n",
              "\n",
              "        async function convertToInteractive(key) {\n",
              "          const element = document.querySelector('#df-80fbdcb5-b0ea-4369-acee-72df7a2ee15f');\n",
              "          const dataTable =\n",
              "            await google.colab.kernel.invokeFunction('convertToInteractive',\n",
              "                                                     [key], {});\n",
              "          if (!dataTable) return;\n",
              "\n",
              "          const docLinkHtml = 'Like what you see? Visit the ' +\n",
              "            '<a target=\"_blank\" href=https://colab.research.google.com/notebooks/data_table.ipynb>data table notebook</a>'\n",
              "            + ' to learn more about interactive tables.';\n",
              "          element.innerHTML = '';\n",
              "          dataTable['output_type'] = 'display_data';\n",
              "          await google.colab.output.renderOutput(dataTable, element);\n",
              "          const docLink = document.createElement('div');\n",
              "          docLink.innerHTML = docLinkHtml;\n",
              "          element.appendChild(docLink);\n",
              "        }\n",
              "      </script>\n",
              "    </div>\n",
              "  </div>\n",
              "  "
            ]
          },
          "metadata": {},
          "execution_count": 5
        }
      ]
    },
    {
      "cell_type": "code",
      "metadata": {
        "id": "4u8TEZjzby45",
        "colab": {
          "base_uri": "https://localhost:8080/"
        },
        "outputId": "3f3a912e-6392-4037-d36f-6b1f839f873d"
      },
      "source": [
        "data_class"
      ],
      "execution_count": null,
      "outputs": [
        {
          "output_type": "execute_result",
          "data": {
            "text/plain": [
              "array([0, 0, 0, 0, 0, 0, 0, 0, 0, 0, 0, 0, 0, 0, 0, 0, 0, 0, 0, 0, 0, 0,\n",
              "       0, 0, 0, 0, 0, 0, 0, 0, 0, 0, 0, 0, 0, 0, 0, 0, 0, 0, 0, 0, 0, 0,\n",
              "       0, 0, 0, 0, 0, 0, 0, 0, 0, 0, 0, 0, 0, 0, 0, 1, 1, 1, 1, 1, 1, 1,\n",
              "       1, 1, 1, 1, 1, 1, 1, 1, 1, 1, 1, 1, 1, 1, 1, 1, 1, 1, 1, 1, 1, 1,\n",
              "       1, 1, 1, 1, 1, 1, 1, 1, 1, 1, 1, 1, 1, 1, 1, 1, 1, 1, 1, 1, 1, 1,\n",
              "       1, 1, 1, 1, 1, 1, 1, 1, 1, 1, 1, 1, 1, 1, 1, 1, 1, 1, 1, 1, 2, 2,\n",
              "       2, 2, 2, 2, 2, 2, 2, 2, 2, 2, 2, 2, 2, 2, 2, 2, 2, 2, 2, 2, 2, 2,\n",
              "       2, 2, 2, 2, 2, 2, 2, 2, 2, 2, 2, 2, 2, 2, 2, 2, 2, 2, 2, 2, 2, 2,\n",
              "       2, 2])"
            ]
          },
          "metadata": {},
          "execution_count": 6
        }
      ]
    },
    {
      "cell_type": "code",
      "metadata": {
        "id": "lFjqjX-iwCaW"
      },
      "source": [
        "# разделяем выборку на тренировочную и тестовую\n",
        "from sklearn.model_selection import train_test_split\n",
        "X_train, X_test, y_train, y_test = train_test_split(data, data_class, random_state=42)"
      ],
      "execution_count": null,
      "outputs": []
    },
    {
      "cell_type": "code",
      "metadata": {
        "id": "ygkZ_ffYby48"
      },
      "source": [
        "len(y_test)"
      ],
      "execution_count": null,
      "outputs": []
    },
    {
      "cell_type": "code",
      "metadata": {
        "id": "6HINhvLtwdZT"
      },
      "source": [
        "# импортируем LDA-функционал\n",
        "from sklearn.discriminant_analysis import LinearDiscriminantAnalysis"
      ],
      "execution_count": null,
      "outputs": []
    },
    {
      "cell_type": "code",
      "metadata": {
        "id": "0Us8oVotwku1"
      },
      "source": [
        "lda = LinearDiscriminantAnalysis()"
      ],
      "execution_count": null,
      "outputs": []
    },
    {
      "cell_type": "code",
      "metadata": {
        "id": "h5Ufc5sjwnZ3",
        "colab": {
          "base_uri": "https://localhost:8080/",
          "height": 75
        },
        "outputId": "185431ab-806c-4c67-fbbf-9a2cb093ae48"
      },
      "source": [
        "# обучаем данные\n",
        "lda.fit(X_train, y_train)"
      ],
      "execution_count": null,
      "outputs": [
        {
          "output_type": "execute_result",
          "data": {
            "text/plain": [
              "LinearDiscriminantAnalysis()"
            ],
            "text/html": [
              "<style>#sk-container-id-1 {color: black;background-color: white;}#sk-container-id-1 pre{padding: 0;}#sk-container-id-1 div.sk-toggleable {background-color: white;}#sk-container-id-1 label.sk-toggleable__label {cursor: pointer;display: block;width: 100%;margin-bottom: 0;padding: 0.3em;box-sizing: border-box;text-align: center;}#sk-container-id-1 label.sk-toggleable__label-arrow:before {content: \"▸\";float: left;margin-right: 0.25em;color: #696969;}#sk-container-id-1 label.sk-toggleable__label-arrow:hover:before {color: black;}#sk-container-id-1 div.sk-estimator:hover label.sk-toggleable__label-arrow:before {color: black;}#sk-container-id-1 div.sk-toggleable__content {max-height: 0;max-width: 0;overflow: hidden;text-align: left;background-color: #f0f8ff;}#sk-container-id-1 div.sk-toggleable__content pre {margin: 0.2em;color: black;border-radius: 0.25em;background-color: #f0f8ff;}#sk-container-id-1 input.sk-toggleable__control:checked~div.sk-toggleable__content {max-height: 200px;max-width: 100%;overflow: auto;}#sk-container-id-1 input.sk-toggleable__control:checked~label.sk-toggleable__label-arrow:before {content: \"▾\";}#sk-container-id-1 div.sk-estimator input.sk-toggleable__control:checked~label.sk-toggleable__label {background-color: #d4ebff;}#sk-container-id-1 div.sk-label input.sk-toggleable__control:checked~label.sk-toggleable__label {background-color: #d4ebff;}#sk-container-id-1 input.sk-hidden--visually {border: 0;clip: rect(1px 1px 1px 1px);clip: rect(1px, 1px, 1px, 1px);height: 1px;margin: -1px;overflow: hidden;padding: 0;position: absolute;width: 1px;}#sk-container-id-1 div.sk-estimator {font-family: monospace;background-color: #f0f8ff;border: 1px dotted black;border-radius: 0.25em;box-sizing: border-box;margin-bottom: 0.5em;}#sk-container-id-1 div.sk-estimator:hover {background-color: #d4ebff;}#sk-container-id-1 div.sk-parallel-item::after {content: \"\";width: 100%;border-bottom: 1px solid gray;flex-grow: 1;}#sk-container-id-1 div.sk-label:hover label.sk-toggleable__label {background-color: #d4ebff;}#sk-container-id-1 div.sk-serial::before {content: \"\";position: absolute;border-left: 1px solid gray;box-sizing: border-box;top: 0;bottom: 0;left: 50%;z-index: 0;}#sk-container-id-1 div.sk-serial {display: flex;flex-direction: column;align-items: center;background-color: white;padding-right: 0.2em;padding-left: 0.2em;position: relative;}#sk-container-id-1 div.sk-item {position: relative;z-index: 1;}#sk-container-id-1 div.sk-parallel {display: flex;align-items: stretch;justify-content: center;background-color: white;position: relative;}#sk-container-id-1 div.sk-item::before, #sk-container-id-1 div.sk-parallel-item::before {content: \"\";position: absolute;border-left: 1px solid gray;box-sizing: border-box;top: 0;bottom: 0;left: 50%;z-index: -1;}#sk-container-id-1 div.sk-parallel-item {display: flex;flex-direction: column;z-index: 1;position: relative;background-color: white;}#sk-container-id-1 div.sk-parallel-item:first-child::after {align-self: flex-end;width: 50%;}#sk-container-id-1 div.sk-parallel-item:last-child::after {align-self: flex-start;width: 50%;}#sk-container-id-1 div.sk-parallel-item:only-child::after {width: 0;}#sk-container-id-1 div.sk-dashed-wrapped {border: 1px dashed gray;margin: 0 0.4em 0.5em 0.4em;box-sizing: border-box;padding-bottom: 0.4em;background-color: white;}#sk-container-id-1 div.sk-label label {font-family: monospace;font-weight: bold;display: inline-block;line-height: 1.2em;}#sk-container-id-1 div.sk-label-container {text-align: center;}#sk-container-id-1 div.sk-container {/* jupyter's `normalize.less` sets `[hidden] { display: none; }` but bootstrap.min.css set `[hidden] { display: none !important; }` so we also need the `!important` here to be able to override the default hidden behavior on the sphinx rendered scikit-learn.org. See: https://github.com/scikit-learn/scikit-learn/issues/21755 */display: inline-block !important;position: relative;}#sk-container-id-1 div.sk-text-repr-fallback {display: none;}</style><div id=\"sk-container-id-1\" class=\"sk-top-container\"><div class=\"sk-text-repr-fallback\"><pre>LinearDiscriminantAnalysis()</pre><b>In a Jupyter environment, please rerun this cell to show the HTML representation or trust the notebook. <br />On GitHub, the HTML representation is unable to render, please try loading this page with nbviewer.org.</b></div><div class=\"sk-container\" hidden><div class=\"sk-item\"><div class=\"sk-estimator sk-toggleable\"><input class=\"sk-toggleable__control sk-hidden--visually\" id=\"sk-estimator-id-1\" type=\"checkbox\" checked><label for=\"sk-estimator-id-1\" class=\"sk-toggleable__label sk-toggleable__label-arrow\">LinearDiscriminantAnalysis</label><div class=\"sk-toggleable__content\"><pre>LinearDiscriminantAnalysis()</pre></div></div></div></div></div>"
            ]
          },
          "metadata": {},
          "execution_count": 10
        }
      ]
    },
    {
      "cell_type": "code",
      "metadata": {
        "id": "bcZ3H-T1xSWu",
        "colab": {
          "base_uri": "https://localhost:8080/"
        },
        "outputId": "b29910bf-d32e-4b74-c269-2bb83f92e916"
      },
      "source": [
        "# делаем прогноз на тестовой выборке\n",
        "lda.predict(X_test)"
      ],
      "execution_count": null,
      "outputs": [
        {
          "output_type": "execute_result",
          "data": {
            "text/plain": [
              "array([0, 0, 2, 0, 1, 0, 1, 2, 1, 2, 0, 2, 0, 1, 0, 1, 1, 1, 0, 1, 0, 1,\n",
              "       1, 2, 2, 2, 1, 1, 1, 0, 0, 1, 2, 0, 0, 0, 2, 2, 1, 2, 0, 1, 1, 1,\n",
              "       2])"
            ]
          },
          "metadata": {},
          "execution_count": 11
        }
      ]
    },
    {
      "cell_type": "code",
      "metadata": {
        "id": "9wGodM6OxUds"
      },
      "source": [
        "# смотрим разницу факта и прогноза\n",
        "result = pd.DataFrame([y_test, lda.predict(X_test)]).T"
      ],
      "execution_count": null,
      "outputs": []
    },
    {
      "cell_type": "code",
      "metadata": {
        "id": "RK4zDP6ZxaXI",
        "colab": {
          "base_uri": "https://localhost:8080/",
          "height": 1000
        },
        "outputId": "f22b185b-ef9c-4f3c-a955-7dbf393ca930"
      },
      "source": [
        "result"
      ],
      "execution_count": null,
      "outputs": [
        {
          "output_type": "execute_result",
          "data": {
            "text/plain": [
              "    0  1\n",
              "0   0  0\n",
              "1   0  0\n",
              "2   2  2\n",
              "3   0  0\n",
              "4   1  1\n",
              "5   0  0\n",
              "6   1  1\n",
              "7   2  2\n",
              "8   1  1\n",
              "9   2  2\n",
              "10  0  0\n",
              "11  2  2\n",
              "12  0  0\n",
              "13  1  1\n",
              "14  0  0\n",
              "15  1  1\n",
              "16  1  1\n",
              "17  1  1\n",
              "18  0  0\n",
              "19  1  1\n",
              "20  0  0\n",
              "21  1  1\n",
              "22  1  1\n",
              "23  2  2\n",
              "24  2  2\n",
              "25  2  2\n",
              "26  1  1\n",
              "27  1  1\n",
              "28  1  1\n",
              "29  0  0\n",
              "30  0  0\n",
              "31  1  1\n",
              "32  2  2\n",
              "33  0  0\n",
              "34  0  0\n",
              "35  0  0\n",
              "36  2  2\n",
              "37  2  2\n",
              "38  1  1\n",
              "39  2  2\n",
              "40  0  0\n",
              "41  1  1\n",
              "42  1  1\n",
              "43  1  1\n",
              "44  2  2"
            ],
            "text/html": [
              "\n",
              "  <div id=\"df-b43dfe2e-04e2-41cd-ad83-7fbbb9302959\">\n",
              "    <div class=\"colab-df-container\">\n",
              "      <div>\n",
              "<style scoped>\n",
              "    .dataframe tbody tr th:only-of-type {\n",
              "        vertical-align: middle;\n",
              "    }\n",
              "\n",
              "    .dataframe tbody tr th {\n",
              "        vertical-align: top;\n",
              "    }\n",
              "\n",
              "    .dataframe thead th {\n",
              "        text-align: right;\n",
              "    }\n",
              "</style>\n",
              "<table border=\"1\" class=\"dataframe\">\n",
              "  <thead>\n",
              "    <tr style=\"text-align: right;\">\n",
              "      <th></th>\n",
              "      <th>0</th>\n",
              "      <th>1</th>\n",
              "    </tr>\n",
              "  </thead>\n",
              "  <tbody>\n",
              "    <tr>\n",
              "      <th>0</th>\n",
              "      <td>0</td>\n",
              "      <td>0</td>\n",
              "    </tr>\n",
              "    <tr>\n",
              "      <th>1</th>\n",
              "      <td>0</td>\n",
              "      <td>0</td>\n",
              "    </tr>\n",
              "    <tr>\n",
              "      <th>2</th>\n",
              "      <td>2</td>\n",
              "      <td>2</td>\n",
              "    </tr>\n",
              "    <tr>\n",
              "      <th>3</th>\n",
              "      <td>0</td>\n",
              "      <td>0</td>\n",
              "    </tr>\n",
              "    <tr>\n",
              "      <th>4</th>\n",
              "      <td>1</td>\n",
              "      <td>1</td>\n",
              "    </tr>\n",
              "    <tr>\n",
              "      <th>5</th>\n",
              "      <td>0</td>\n",
              "      <td>0</td>\n",
              "    </tr>\n",
              "    <tr>\n",
              "      <th>6</th>\n",
              "      <td>1</td>\n",
              "      <td>1</td>\n",
              "    </tr>\n",
              "    <tr>\n",
              "      <th>7</th>\n",
              "      <td>2</td>\n",
              "      <td>2</td>\n",
              "    </tr>\n",
              "    <tr>\n",
              "      <th>8</th>\n",
              "      <td>1</td>\n",
              "      <td>1</td>\n",
              "    </tr>\n",
              "    <tr>\n",
              "      <th>9</th>\n",
              "      <td>2</td>\n",
              "      <td>2</td>\n",
              "    </tr>\n",
              "    <tr>\n",
              "      <th>10</th>\n",
              "      <td>0</td>\n",
              "      <td>0</td>\n",
              "    </tr>\n",
              "    <tr>\n",
              "      <th>11</th>\n",
              "      <td>2</td>\n",
              "      <td>2</td>\n",
              "    </tr>\n",
              "    <tr>\n",
              "      <th>12</th>\n",
              "      <td>0</td>\n",
              "      <td>0</td>\n",
              "    </tr>\n",
              "    <tr>\n",
              "      <th>13</th>\n",
              "      <td>1</td>\n",
              "      <td>1</td>\n",
              "    </tr>\n",
              "    <tr>\n",
              "      <th>14</th>\n",
              "      <td>0</td>\n",
              "      <td>0</td>\n",
              "    </tr>\n",
              "    <tr>\n",
              "      <th>15</th>\n",
              "      <td>1</td>\n",
              "      <td>1</td>\n",
              "    </tr>\n",
              "    <tr>\n",
              "      <th>16</th>\n",
              "      <td>1</td>\n",
              "      <td>1</td>\n",
              "    </tr>\n",
              "    <tr>\n",
              "      <th>17</th>\n",
              "      <td>1</td>\n",
              "      <td>1</td>\n",
              "    </tr>\n",
              "    <tr>\n",
              "      <th>18</th>\n",
              "      <td>0</td>\n",
              "      <td>0</td>\n",
              "    </tr>\n",
              "    <tr>\n",
              "      <th>19</th>\n",
              "      <td>1</td>\n",
              "      <td>1</td>\n",
              "    </tr>\n",
              "    <tr>\n",
              "      <th>20</th>\n",
              "      <td>0</td>\n",
              "      <td>0</td>\n",
              "    </tr>\n",
              "    <tr>\n",
              "      <th>21</th>\n",
              "      <td>1</td>\n",
              "      <td>1</td>\n",
              "    </tr>\n",
              "    <tr>\n",
              "      <th>22</th>\n",
              "      <td>1</td>\n",
              "      <td>1</td>\n",
              "    </tr>\n",
              "    <tr>\n",
              "      <th>23</th>\n",
              "      <td>2</td>\n",
              "      <td>2</td>\n",
              "    </tr>\n",
              "    <tr>\n",
              "      <th>24</th>\n",
              "      <td>2</td>\n",
              "      <td>2</td>\n",
              "    </tr>\n",
              "    <tr>\n",
              "      <th>25</th>\n",
              "      <td>2</td>\n",
              "      <td>2</td>\n",
              "    </tr>\n",
              "    <tr>\n",
              "      <th>26</th>\n",
              "      <td>1</td>\n",
              "      <td>1</td>\n",
              "    </tr>\n",
              "    <tr>\n",
              "      <th>27</th>\n",
              "      <td>1</td>\n",
              "      <td>1</td>\n",
              "    </tr>\n",
              "    <tr>\n",
              "      <th>28</th>\n",
              "      <td>1</td>\n",
              "      <td>1</td>\n",
              "    </tr>\n",
              "    <tr>\n",
              "      <th>29</th>\n",
              "      <td>0</td>\n",
              "      <td>0</td>\n",
              "    </tr>\n",
              "    <tr>\n",
              "      <th>30</th>\n",
              "      <td>0</td>\n",
              "      <td>0</td>\n",
              "    </tr>\n",
              "    <tr>\n",
              "      <th>31</th>\n",
              "      <td>1</td>\n",
              "      <td>1</td>\n",
              "    </tr>\n",
              "    <tr>\n",
              "      <th>32</th>\n",
              "      <td>2</td>\n",
              "      <td>2</td>\n",
              "    </tr>\n",
              "    <tr>\n",
              "      <th>33</th>\n",
              "      <td>0</td>\n",
              "      <td>0</td>\n",
              "    </tr>\n",
              "    <tr>\n",
              "      <th>34</th>\n",
              "      <td>0</td>\n",
              "      <td>0</td>\n",
              "    </tr>\n",
              "    <tr>\n",
              "      <th>35</th>\n",
              "      <td>0</td>\n",
              "      <td>0</td>\n",
              "    </tr>\n",
              "    <tr>\n",
              "      <th>36</th>\n",
              "      <td>2</td>\n",
              "      <td>2</td>\n",
              "    </tr>\n",
              "    <tr>\n",
              "      <th>37</th>\n",
              "      <td>2</td>\n",
              "      <td>2</td>\n",
              "    </tr>\n",
              "    <tr>\n",
              "      <th>38</th>\n",
              "      <td>1</td>\n",
              "      <td>1</td>\n",
              "    </tr>\n",
              "    <tr>\n",
              "      <th>39</th>\n",
              "      <td>2</td>\n",
              "      <td>2</td>\n",
              "    </tr>\n",
              "    <tr>\n",
              "      <th>40</th>\n",
              "      <td>0</td>\n",
              "      <td>0</td>\n",
              "    </tr>\n",
              "    <tr>\n",
              "      <th>41</th>\n",
              "      <td>1</td>\n",
              "      <td>1</td>\n",
              "    </tr>\n",
              "    <tr>\n",
              "      <th>42</th>\n",
              "      <td>1</td>\n",
              "      <td>1</td>\n",
              "    </tr>\n",
              "    <tr>\n",
              "      <th>43</th>\n",
              "      <td>1</td>\n",
              "      <td>1</td>\n",
              "    </tr>\n",
              "    <tr>\n",
              "      <th>44</th>\n",
              "      <td>2</td>\n",
              "      <td>2</td>\n",
              "    </tr>\n",
              "  </tbody>\n",
              "</table>\n",
              "</div>\n",
              "      <button class=\"colab-df-convert\" onclick=\"convertToInteractive('df-b43dfe2e-04e2-41cd-ad83-7fbbb9302959')\"\n",
              "              title=\"Convert this dataframe to an interactive table.\"\n",
              "              style=\"display:none;\">\n",
              "        \n",
              "  <svg xmlns=\"http://www.w3.org/2000/svg\" height=\"24px\"viewBox=\"0 0 24 24\"\n",
              "       width=\"24px\">\n",
              "    <path d=\"M0 0h24v24H0V0z\" fill=\"none\"/>\n",
              "    <path d=\"M18.56 5.44l.94 2.06.94-2.06 2.06-.94-2.06-.94-.94-2.06-.94 2.06-2.06.94zm-11 1L8.5 8.5l.94-2.06 2.06-.94-2.06-.94L8.5 2.5l-.94 2.06-2.06.94zm10 10l.94 2.06.94-2.06 2.06-.94-2.06-.94-.94-2.06-.94 2.06-2.06.94z\"/><path d=\"M17.41 7.96l-1.37-1.37c-.4-.4-.92-.59-1.43-.59-.52 0-1.04.2-1.43.59L10.3 9.45l-7.72 7.72c-.78.78-.78 2.05 0 2.83L4 21.41c.39.39.9.59 1.41.59.51 0 1.02-.2 1.41-.59l7.78-7.78 2.81-2.81c.8-.78.8-2.07 0-2.86zM5.41 20L4 18.59l7.72-7.72 1.47 1.35L5.41 20z\"/>\n",
              "  </svg>\n",
              "      </button>\n",
              "      \n",
              "  <style>\n",
              "    .colab-df-container {\n",
              "      display:flex;\n",
              "      flex-wrap:wrap;\n",
              "      gap: 12px;\n",
              "    }\n",
              "\n",
              "    .colab-df-convert {\n",
              "      background-color: #E8F0FE;\n",
              "      border: none;\n",
              "      border-radius: 50%;\n",
              "      cursor: pointer;\n",
              "      display: none;\n",
              "      fill: #1967D2;\n",
              "      height: 32px;\n",
              "      padding: 0 0 0 0;\n",
              "      width: 32px;\n",
              "    }\n",
              "\n",
              "    .colab-df-convert:hover {\n",
              "      background-color: #E2EBFA;\n",
              "      box-shadow: 0px 1px 2px rgba(60, 64, 67, 0.3), 0px 1px 3px 1px rgba(60, 64, 67, 0.15);\n",
              "      fill: #174EA6;\n",
              "    }\n",
              "\n",
              "    [theme=dark] .colab-df-convert {\n",
              "      background-color: #3B4455;\n",
              "      fill: #D2E3FC;\n",
              "    }\n",
              "\n",
              "    [theme=dark] .colab-df-convert:hover {\n",
              "      background-color: #434B5C;\n",
              "      box-shadow: 0px 1px 3px 1px rgba(0, 0, 0, 0.15);\n",
              "      filter: drop-shadow(0px 1px 2px rgba(0, 0, 0, 0.3));\n",
              "      fill: #FFFFFF;\n",
              "    }\n",
              "  </style>\n",
              "\n",
              "      <script>\n",
              "        const buttonEl =\n",
              "          document.querySelector('#df-b43dfe2e-04e2-41cd-ad83-7fbbb9302959 button.colab-df-convert');\n",
              "        buttonEl.style.display =\n",
              "          google.colab.kernel.accessAllowed ? 'block' : 'none';\n",
              "\n",
              "        async function convertToInteractive(key) {\n",
              "          const element = document.querySelector('#df-b43dfe2e-04e2-41cd-ad83-7fbbb9302959');\n",
              "          const dataTable =\n",
              "            await google.colab.kernel.invokeFunction('convertToInteractive',\n",
              "                                                     [key], {});\n",
              "          if (!dataTable) return;\n",
              "\n",
              "          const docLinkHtml = 'Like what you see? Visit the ' +\n",
              "            '<a target=\"_blank\" href=https://colab.research.google.com/notebooks/data_table.ipynb>data table notebook</a>'\n",
              "            + ' to learn more about interactive tables.';\n",
              "          element.innerHTML = '';\n",
              "          dataTable['output_type'] = 'display_data';\n",
              "          await google.colab.output.renderOutput(dataTable, element);\n",
              "          const docLink = document.createElement('div');\n",
              "          docLink.innerHTML = docLinkHtml;\n",
              "          element.appendChild(docLink);\n",
              "        }\n",
              "      </script>\n",
              "    </div>\n",
              "  </div>\n",
              "  "
            ]
          },
          "metadata": {},
          "execution_count": 13
        }
      ]
    },
    {
      "cell_type": "markdown",
      "source": [
        "Почитать про другие метрики качества в задачах классификации: https://habr.com/ru/company/ods/blog/328372/"
      ],
      "metadata": {
        "id": "aSDnZ2pvQDOh"
      }
    },
    {
      "cell_type": "code",
      "metadata": {
        "id": "B66nVhbk2Mf1"
      },
      "source": [
        "# расчет точности - отношение верных прогнозов к общему количеству позиций\n",
        "# является хорошей метрикой для сбалансированных классов \n",
        "# (наблюдений в категориях примерно одинаковое количество)\n",
        "\n",
        "from sklearn.metrics import accuracy_score"
      ],
      "execution_count": null,
      "outputs": []
    },
    {
      "cell_type": "code",
      "metadata": {
        "id": "2x5pYOZB2P2F",
        "colab": {
          "base_uri": "https://localhost:8080/"
        },
        "outputId": "51767b1d-fc51-45f1-b805-a4b8c06bcd6e"
      },
      "source": [
        "accuracy_score(y_test, lda.predict(X_test))"
      ],
      "execution_count": null,
      "outputs": [
        {
          "output_type": "execute_result",
          "data": {
            "text/plain": [
              "1.0"
            ]
          },
          "metadata": {},
          "execution_count": 15
        }
      ]
    },
    {
      "cell_type": "code",
      "metadata": {
        "id": "aBdqgd5ixdMh",
        "colab": {
          "base_uri": "https://localhost:8080/"
        },
        "outputId": "734a213d-a126-4b06-a7af-db22158bd342"
      },
      "source": [
        "# коэффициенты дискриминатных линий\n",
        "lda.coef_"
      ],
      "execution_count": null,
      "outputs": [
        {
          "output_type": "execute_result",
          "data": {
            "text/plain": [
              "array([[ 2.77785654e+00, -2.62823777e-01,  6.34033699e+00,\n",
              "        -9.23264800e-01,  1.12148061e-03, -1.73622434e+00,\n",
              "         4.95743646e+00,  3.14554165e+00, -1.19253447e+00,\n",
              "        -8.98034416e-01, -1.73258088e-01,  3.81064150e+00,\n",
              "         1.36856107e-02],\n",
              "       [-2.00764892e+00, -4.89578703e-01, -6.54854947e+00,\n",
              "         4.49722072e-01,  4.06933168e-05, -7.56394603e-01,\n",
              "         1.34633325e+00,  2.67670321e+00,  1.06737575e+00,\n",
              "        -6.98689535e-01,  3.51943073e+00,  4.92874648e-01,\n",
              "        -5.99014310e-03],\n",
              "       [-4.39452636e-01,  1.04199771e+00,  1.89161928e+00,\n",
              "         4.66343927e-01, -1.43060813e-03,  3.23563291e+00,\n",
              "        -8.04119074e+00, -7.78525286e+00, -1.13872164e-01,\n",
              "         2.12622388e+00, -4.96962424e+00, -5.38307173e+00,\n",
              "        -7.90803569e-03]])"
            ]
          },
          "metadata": {},
          "execution_count": 16
        }
      ]
    },
    {
      "cell_type": "code",
      "metadata": {
        "id": "KFSam-cJzCOG"
      },
      "source": [
        "# визуализируем дискриминантные линии только по 2 признакам\n",
        "small_train = X_train[['ash', 'flavanoids']]\n",
        "small_test = X_test[['ash', 'flavanoids']]"
      ],
      "execution_count": null,
      "outputs": []
    },
    {
      "cell_type": "code",
      "metadata": {
        "id": "SX47KNgXySEU",
        "colab": {
          "base_uri": "https://localhost:8080/",
          "height": 448
        },
        "outputId": "27c0df3f-f3c2-4e9b-a24a-fd6a91578dd9"
      },
      "source": [
        "plt.scatter(x=small_train['ash'], y=small_train['flavanoids'], c=y_train)\n",
        "plt.legend()\n",
        "plt.show()\n"
      ],
      "execution_count": null,
      "outputs": [
        {
          "output_type": "stream",
          "name": "stderr",
          "text": [
            "WARNING:matplotlib.legend:No artists with labels found to put in legend.  Note that artists whose label start with an underscore are ignored when legend() is called with no argument.\n"
          ]
        },
        {
          "output_type": "display_data",
          "data": {
            "text/plain": [
              "<Figure size 640x480 with 1 Axes>"
            ],
            "image/png": "[encoded data removed]"
          },
          "metadata": {}
        }
      ]
    },
    {
      "cell_type": "code",
      "metadata": {
        "id": "jzWXDuY7y453",
        "colab": {
          "base_uri": "https://localhost:8080/",
          "height": 75
        },
        "outputId": "d4849949-8fa6-4510-e58a-ae8a8469c843"
      },
      "source": [
        "lda_small = LinearDiscriminantAnalysis()\n",
        "lda_small.fit(small_train, y_train)"
      ],
      "execution_count": null,
      "outputs": [
        {
          "output_type": "execute_result",
          "data": {
            "text/plain": [
              "LinearDiscriminantAnalysis()"
            ],
            "text/html": [
              "<style>#sk-container-id-2 {color: black;background-color: white;}#sk-container-id-2 pre{padding: 0;}#sk-container-id-2 div.sk-toggleable {background-color: white;}#sk-container-id-2 label.sk-toggleable__label {cursor: pointer;display: block;width: 100%;margin-bottom: 0;padding: 0.3em;box-sizing: border-box;text-align: center;}#sk-container-id-2 label.sk-toggleable__label-arrow:before {content: \"▸\";float: left;margin-right: 0.25em;color: #696969;}#sk-container-id-2 label.sk-toggleable__label-arrow:hover:before {color: black;}#sk-container-id-2 div.sk-estimator:hover label.sk-toggleable__label-arrow:before {color: black;}#sk-container-id-2 div.sk-toggleable__content {max-height: 0;max-width: 0;overflow: hidden;text-align: left;background-color: #f0f8ff;}#sk-container-id-2 div.sk-toggleable__content pre {margin: 0.2em;color: black;border-radius: 0.25em;background-color: #f0f8ff;}#sk-container-id-2 input.sk-toggleable__control:checked~div.sk-toggleable__content {max-height: 200px;max-width: 100%;overflow: auto;}#sk-container-id-2 input.sk-toggleable__control:checked~label.sk-toggleable__label-arrow:before {content: \"▾\";}#sk-container-id-2 div.sk-estimator input.sk-toggleable__control:checked~label.sk-toggleable__label {background-color: #d4ebff;}#sk-container-id-2 div.sk-label input.sk-toggleable__control:checked~label.sk-toggleable__label {background-color: #d4ebff;}#sk-container-id-2 input.sk-hidden--visually {border: 0;clip: rect(1px 1px 1px 1px);clip: rect(1px, 1px, 1px, 1px);height: 1px;margin: -1px;overflow: hidden;padding: 0;position: absolute;width: 1px;}#sk-container-id-2 div.sk-estimator {font-family: monospace;background-color: #f0f8ff;border: 1px dotted black;border-radius: 0.25em;box-sizing: border-box;margin-bottom: 0.5em;}#sk-container-id-2 div.sk-estimator:hover {background-color: #d4ebff;}#sk-container-id-2 div.sk-parallel-item::after {content: \"\";width: 100%;border-bottom: 1px solid gray;flex-grow: 1;}#sk-container-id-2 div.sk-label:hover label.sk-toggleable__label {background-color: #d4ebff;}#sk-container-id-2 div.sk-serial::before {content: \"\";position: absolute;border-left: 1px solid gray;box-sizing: border-box;top: 0;bottom: 0;left: 50%;z-index: 0;}#sk-container-id-2 div.sk-serial {display: flex;flex-direction: column;align-items: center;background-color: white;padding-right: 0.2em;padding-left: 0.2em;position: relative;}#sk-container-id-2 div.sk-item {position: relative;z-index: 1;}#sk-container-id-2 div.sk-parallel {display: flex;align-items: stretch;justify-content: center;background-color: white;position: relative;}#sk-container-id-2 div.sk-item::before, #sk-container-id-2 div.sk-parallel-item::before {content: \"\";position: absolute;border-left: 1px solid gray;box-sizing: border-box;top: 0;bottom: 0;left: 50%;z-index: -1;}#sk-container-id-2 div.sk-parallel-item {display: flex;flex-direction: column;z-index: 1;position: relative;background-color: white;}#sk-container-id-2 div.sk-parallel-item:first-child::after {align-self: flex-end;width: 50%;}#sk-container-id-2 div.sk-parallel-item:last-child::after {align-self: flex-start;width: 50%;}#sk-container-id-2 div.sk-parallel-item:only-child::after {width: 0;}#sk-container-id-2 div.sk-dashed-wrapped {border: 1px dashed gray;margin: 0 0.4em 0.5em 0.4em;box-sizing: border-box;padding-bottom: 0.4em;background-color: white;}#sk-container-id-2 div.sk-label label {font-family: monospace;font-weight: bold;display: inline-block;line-height: 1.2em;}#sk-container-id-2 div.sk-label-container {text-align: center;}#sk-container-id-2 div.sk-container {/* jupyter's `normalize.less` sets `[hidden] { display: none; }` but bootstrap.min.css set `[hidden] { display: none !important; }` so we also need the `!important` here to be able to override the default hidden behavior on the sphinx rendered scikit-learn.org. See: https://github.com/scikit-learn/scikit-learn/issues/21755 */display: inline-block !important;position: relative;}#sk-container-id-2 div.sk-text-repr-fallback {display: none;}</style><div id=\"sk-container-id-2\" class=\"sk-top-container\"><div class=\"sk-text-repr-fallback\"><pre>LinearDiscriminantAnalysis()</pre><b>In a Jupyter environment, please rerun this cell to show the HTML representation or trust the notebook. <br />On GitHub, the HTML representation is unable to render, please try loading this page with nbviewer.org.</b></div><div class=\"sk-container\" hidden><div class=\"sk-item\"><div class=\"sk-estimator sk-toggleable\"><input class=\"sk-toggleable__control sk-hidden--visually\" id=\"sk-estimator-id-2\" type=\"checkbox\" checked><label for=\"sk-estimator-id-2\" class=\"sk-toggleable__label sk-toggleable__label-arrow\">LinearDiscriminantAnalysis</label><div class=\"sk-toggleable__content\"><pre>LinearDiscriminantAnalysis()</pre></div></div></div></div></div>"
            ]
          },
          "metadata": {},
          "execution_count": 19
        }
      ]
    },
    {
      "cell_type": "code",
      "metadata": {
        "id": "MSo9yPBxzPYx",
        "colab": {
          "base_uri": "https://localhost:8080/"
        },
        "outputId": "428e7246-6ed5-44c8-bdc9-3ac38d9ccf51"
      },
      "source": [
        "# посмотрим на наши центроиды\n",
        "lda_small.means_"
      ],
      "execution_count": null,
      "outputs": [
        {
          "output_type": "execute_result",
          "data": {
            "text/plain": [
              "array([[2.45795455, 2.98522727],\n",
              "       [2.24735849, 2.07150943],\n",
              "       [2.41416667, 0.76888889]])"
            ]
          },
          "metadata": {},
          "execution_count": 20
        }
      ]
    },
    {
      "cell_type": "code",
      "metadata": {
        "id": "IrQb_JTwzREc",
        "colab": {
          "base_uri": "https://localhost:8080/",
          "height": 448
        },
        "outputId": "60d09a9f-6f81-4a0a-fc81-d86bc03832c1"
      },
      "source": [
        "# сам scatter plot\n",
        "plt.scatter(small_train['ash'], small_train['flavanoids'], c=y_train)\n",
        "# центроиды\n",
        "plt.scatter(lda_small.means_[:, 0], lda_small.means_[:, 1], c='r', s=150, marker='*')\n"
      ],
      "execution_count": null,
      "outputs": [
        {
          "output_type": "execute_result",
          "data": {
            "text/plain": [
              "<matplotlib.collections.PathCollection at 0x7f162ce10f70>"
            ]
          },
          "metadata": {},
          "execution_count": 21
        },
        {
          "output_type": "display_data",
          "data": {
            "text/plain": [
              "<Figure size 640x480 with 1 Axes>"
            ],
            "image/png": "[encoded data removed]"
          },
          "metadata": {}
        }
      ]
    },
    {
      "cell_type": "code",
      "source": [
        "# визуализация разделения на тесте\n",
        "plt.scatter(small_test['ash'], small_test['flavanoids'], c=lda_small.predict(small_test))\n",
        "# центроиды\n",
        "plt.scatter(lda_small.means_[:, 0], lda_small.means_[:, 1], c='r', s=150, marker='*')"
      ],
      "metadata": {
        "colab": {
          "base_uri": "https://localhost:8080/",
          "height": 448
        },
        "id": "0FIaGY8jWia1",
        "outputId": "341c3030-7fec-4fb4-a7aa-21497f26e276"
      },
      "execution_count": null,
      "outputs": [
        {
          "output_type": "execute_result",
          "data": {
            "text/plain": [
              "<matplotlib.collections.PathCollection at 0x7f1628382b50>"
            ]
          },
          "metadata": {},
          "execution_count": 22
        },
        {
          "output_type": "display_data",
          "data": {
            "text/plain": [
              "<Figure size 640x480 with 1 Axes>"
            ],
            "image/png": "[encoded data removed]"
          },
          "metadata": {}
        }
      ]
    },
    {
      "cell_type": "code",
      "metadata": {
        "id": "e4_nponj4X5a",
        "colab": {
          "base_uri": "https://localhost:8080/"
        },
        "outputId": "b3c61d2a-a1f7-4032-a300-47dedaae4955"
      },
      "source": [
        "# второй признак во много раз важнее первого для кластеризации (это видно по визуализации)\n",
        "lda_small.coef_"
      ],
      "execution_count": null,
      "outputs": [
        {
          "output_type": "execute_result",
          "data": {
            "text/plain": [
              "array([[-0.35930524,  3.52752381],\n",
              "       [-1.82165655,  0.40785359],\n",
              "       [ 3.1210341 , -4.9118691 ]])"
            ]
          },
          "metadata": {},
          "execution_count": 23
        }
      ]
    },
    {
      "cell_type": "code",
      "metadata": {
        "id": "fDmV457H4kz_",
        "colab": {
          "base_uri": "https://localhost:8080/"
        },
        "outputId": "e4aeff55-fd4d-4f77-d5a0-feb588033328"
      },
      "source": [
        "# какая будет точность?\n",
        "accuracy_score(y_test, lda_small.predict(small_test))"
      ],
      "execution_count": null,
      "outputs": [
        {
          "output_type": "execute_result",
          "data": {
            "text/plain": [
              "0.8"
            ]
          },
          "metadata": {},
          "execution_count": 24
        }
      ]
    },
    {
      "cell_type": "code",
      "metadata": {
        "id": "bhPt9IHjby5I",
        "colab": {
          "base_uri": "https://localhost:8080/",
          "height": 112
        },
        "outputId": "5b9322ee-93cd-4bc1-8519-b89073ce0d3a"
      },
      "source": [
        "data[['flavanoids', 'ash']].corr()"
      ],
      "execution_count": null,
      "outputs": [
        {
          "output_type": "execute_result",
          "data": {
            "text/plain": [
              "            flavanoids       ash\n",
              "flavanoids    1.000000  0.115077\n",
              "ash           0.115077  1.000000"
            ],
            "text/html": [
              "\n",
              "  <div id=\"df-8495e498-5a5b-4559-856e-5659f8794af3\">\n",
              "    <div class=\"colab-df-container\">\n",
              "      <div>\n",
              "<style scoped>\n",
              "    .dataframe tbody tr th:only-of-type {\n",
              "        vertical-align: middle;\n",
              "    }\n",
              "\n",
              "    .dataframe tbody tr th {\n",
              "        vertical-align: top;\n",
              "    }\n",
              "\n",
              "    .dataframe thead th {\n",
              "        text-align: right;\n",
              "    }\n",
              "</style>\n",
              "<table border=\"1\" class=\"dataframe\">\n",
              "  <thead>\n",
              "    <tr style=\"text-align: right;\">\n",
              "      <th></th>\n",
              "      <th>flavanoids</th>\n",
              "      <th>ash</th>\n",
              "    </tr>\n",
              "  </thead>\n",
              "  <tbody>\n",
              "    <tr>\n",
              "      <th>flavanoids</th>\n",
              "      <td>1.000000</td>\n",
              "      <td>0.115077</td>\n",
              "    </tr>\n",
              "    <tr>\n",
              "      <th>ash</th>\n",
              "      <td>0.115077</td>\n",
              "      <td>1.000000</td>\n",
              "    </tr>\n",
              "  </tbody>\n",
              "</table>\n",
              "</div>\n",
              "      <button class=\"colab-df-convert\" onclick=\"convertToInteractive('df-8495e498-5a5b-4559-856e-5659f8794af3')\"\n",
              "              title=\"Convert this dataframe to an interactive table.\"\n",
              "              style=\"display:none;\">\n",
              "        \n",
              "  <svg xmlns=\"http://www.w3.org/2000/svg\" height=\"24px\"viewBox=\"0 0 24 24\"\n",
              "       width=\"24px\">\n",
              "    <path d=\"M0 0h24v24H0V0z\" fill=\"none\"/>\n",
              "    <path d=\"M18.56 5.44l.94 2.06.94-2.06 2.06-.94-2.06-.94-.94-2.06-.94 2.06-2.06.94zm-11 1L8.5 8.5l.94-2.06 2.06-.94-2.06-.94L8.5 2.5l-.94 2.06-2.06.94zm10 10l.94 2.06.94-2.06 2.06-.94-2.06-.94-.94-2.06-.94 2.06-2.06.94z\"/><path d=\"M17.41 7.96l-1.37-1.37c-.4-.4-.92-.59-1.43-.59-.52 0-1.04.2-1.43.59L10.3 9.45l-7.72 7.72c-.78.78-.78 2.05 0 2.83L4 21.41c.39.39.9.59 1.41.59.51 0 1.02-.2 1.41-.59l7.78-7.78 2.81-2.81c.8-.78.8-2.07 0-2.86zM5.41 20L4 18.59l7.72-7.72 1.47 1.35L5.41 20z\"/>\n",
              "  </svg>\n",
              "      </button>\n",
              "      \n",
              "  <style>\n",
              "    .colab-df-container {\n",
              "      display:flex;\n",
              "      flex-wrap:wrap;\n",
              "      gap: 12px;\n",
              "    }\n",
              "\n",
              "    .colab-df-convert {\n",
              "      background-color: #E8F0FE;\n",
              "      border: none;\n",
              "      border-radius: 50%;\n",
              "      cursor: pointer;\n",
              "      display: none;\n",
              "      fill: #1967D2;\n",
              "      height: 32px;\n",
              "      padding: 0 0 0 0;\n",
              "      width: 32px;\n",
              "    }\n",
              "\n",
              "    .colab-df-convert:hover {\n",
              "      background-color: #E2EBFA;\n",
              "      box-shadow: 0px 1px 2px rgba(60, 64, 67, 0.3), 0px 1px 3px 1px rgba(60, 64, 67, 0.15);\n",
              "      fill: #174EA6;\n",
              "    }\n",
              "\n",
              "    [theme=dark] .colab-df-convert {\n",
              "      background-color: #3B4455;\n",
              "      fill: #D2E3FC;\n",
              "    }\n",
              "\n",
              "    [theme=dark] .colab-df-convert:hover {\n",
              "      background-color: #434B5C;\n",
              "      box-shadow: 0px 1px 3px 1px rgba(0, 0, 0, 0.15);\n",
              "      filter: drop-shadow(0px 1px 2px rgba(0, 0, 0, 0.3));\n",
              "      fill: #FFFFFF;\n",
              "    }\n",
              "  </style>\n",
              "\n",
              "      <script>\n",
              "        const buttonEl =\n",
              "          document.querySelector('#df-8495e498-5a5b-4559-856e-5659f8794af3 button.colab-df-convert');\n",
              "        buttonEl.style.display =\n",
              "          google.colab.kernel.accessAllowed ? 'block' : 'none';\n",
              "\n",
              "        async function convertToInteractive(key) {\n",
              "          const element = document.querySelector('#df-8495e498-5a5b-4559-856e-5659f8794af3');\n",
              "          const dataTable =\n",
              "            await google.colab.kernel.invokeFunction('convertToInteractive',\n",
              "                                                     [key], {});\n",
              "          if (!dataTable) return;\n",
              "\n",
              "          const docLinkHtml = 'Like what you see? Visit the ' +\n",
              "            '<a target=\"_blank\" href=https://colab.research.google.com/notebooks/data_table.ipynb>data table notebook</a>'\n",
              "            + ' to learn more about interactive tables.';\n",
              "          element.innerHTML = '';\n",
              "          dataTable['output_type'] = 'display_data';\n",
              "          await google.colab.output.renderOutput(dataTable, element);\n",
              "          const docLink = document.createElement('div');\n",
              "          docLink.innerHTML = docLinkHtml;\n",
              "          element.appendChild(docLink);\n",
              "        }\n",
              "      </script>\n",
              "    </div>\n",
              "  </div>\n",
              "  "
            ]
          },
          "metadata": {},
          "execution_count": 25
        }
      ]
    },
    {
      "cell_type": "code",
      "metadata": {
        "id": "E-gchIEJ4t2d"
      },
      "source": [
        "# заменим модель на логистическую регрессиию\n",
        "# кому интересно, отличия логистической регрессии от LDA: \n",
        "# https://www.introspective-mode.org/logistic-regression-or-discriminant-function-analysis/\n",
        "# Основные моменты:\n",
        "# LR может работать с категориальными признаками \n",
        "# зависимая переменная в LR подчиняется логистической функции (изменяется от 0 до 1) и непрерывна\n",
        "from sklearn.linear_model import LogisticRegression"
      ],
      "execution_count": null,
      "outputs": []
    },
    {
      "cell_type": "code",
      "metadata": {
        "id": "R4NDgweF41cm"
      },
      "source": [
        "lr = LogisticRegression()"
      ],
      "execution_count": null,
      "outputs": []
    },
    {
      "cell_type": "code",
      "metadata": {
        "id": "badyR0Tj43nx",
        "colab": {
          "base_uri": "https://localhost:8080/",
          "height": 221
        },
        "outputId": "545c2b72-bc7e-4c47-cbb6-6ed544dd813d"
      },
      "source": [
        "lr.fit(X_train, y_train)"
      ],
      "execution_count": null,
      "outputs": [
        {
          "output_type": "stream",
          "name": "stderr",
          "text": [
            "/usr/local/lib/python3.9/dist-packages/sklearn/linear_model/_logistic.py:458: ConvergenceWarning: lbfgs failed to converge (status=1):\n",
            "STOP: TOTAL NO. of ITERATIONS REACHED LIMIT.\n",
            "\n",
            "Increase the number of iterations (max_iter) or scale the data as shown in:\n",
            "    https://scikit-learn.org/stable/modules/preprocessing.html\n",
            "Please also refer to the documentation for alternative solver options:\n",
            "    https://scikit-learn.org/stable/modules/linear_model.html#logistic-regression\n",
            "  n_iter_i = _check_optimize_result(\n"
          ]
        },
        {
          "output_type": "execute_result",
          "data": {
            "text/plain": [
              "LogisticRegression()"
            ],
            "text/html": [
              "<style>#sk-container-id-3 {color: black;background-color: white;}#sk-container-id-3 pre{padding: 0;}#sk-container-id-3 div.sk-toggleable {background-color: white;}#sk-container-id-3 label.sk-toggleable__label {cursor: pointer;display: block;width: 100%;margin-bottom: 0;padding: 0.3em;box-sizing: border-box;text-align: center;}#sk-container-id-3 label.sk-toggleable__label-arrow:before {content: \"▸\";float: left;margin-right: 0.25em;color: #696969;}#sk-container-id-3 label.sk-toggleable__label-arrow:hover:before {color: black;}#sk-container-id-3 div.sk-estimator:hover label.sk-toggleable__label-arrow:before {color: black;}#sk-container-id-3 div.sk-toggleable__content {max-height: 0;max-width: 0;overflow: hidden;text-align: left;background-color: #f0f8ff;}#sk-container-id-3 div.sk-toggleable__content pre {margin: 0.2em;color: black;border-radius: 0.25em;background-color: #f0f8ff;}#sk-container-id-3 input.sk-toggleable__control:checked~div.sk-toggleable__content {max-height: 200px;max-width: 100%;overflow: auto;}#sk-container-id-3 input.sk-toggleable__control:checked~label.sk-toggleable__label-arrow:before {content: \"▾\";}#sk-container-id-3 div.sk-estimator input.sk-toggleable__control:checked~label.sk-toggleable__label {background-color: #d4ebff;}#sk-container-id-3 div.sk-label input.sk-toggleable__control:checked~label.sk-toggleable__label {background-color: #d4ebff;}#sk-container-id-3 input.sk-hidden--visually {border: 0;clip: rect(1px 1px 1px 1px);clip: rect(1px, 1px, 1px, 1px);height: 1px;margin: -1px;overflow: hidden;padding: 0;position: absolute;width: 1px;}#sk-container-id-3 div.sk-estimator {font-family: monospace;background-color: #f0f8ff;border: 1px dotted black;border-radius: 0.25em;box-sizing: border-box;margin-bottom: 0.5em;}#sk-container-id-3 div.sk-estimator:hover {background-color: #d4ebff;}#sk-container-id-3 div.sk-parallel-item::after {content: \"\";width: 100%;border-bottom: 1px solid gray;flex-grow: 1;}#sk-container-id-3 div.sk-label:hover label.sk-toggleable__label {background-color: #d4ebff;}#sk-container-id-3 div.sk-serial::before {content: \"\";position: absolute;border-left: 1px solid gray;box-sizing: border-box;top: 0;bottom: 0;left: 50%;z-index: 0;}#sk-container-id-3 div.sk-serial {display: flex;flex-direction: column;align-items: center;background-color: white;padding-right: 0.2em;padding-left: 0.2em;position: relative;}#sk-container-id-3 div.sk-item {position: relative;z-index: 1;}#sk-container-id-3 div.sk-parallel {display: flex;align-items: stretch;justify-content: center;background-color: white;position: relative;}#sk-container-id-3 div.sk-item::before, #sk-container-id-3 div.sk-parallel-item::before {content: \"\";position: absolute;border-left: 1px solid gray;box-sizing: border-box;top: 0;bottom: 0;left: 50%;z-index: -1;}#sk-container-id-3 div.sk-parallel-item {display: flex;flex-direction: column;z-index: 1;position: relative;background-color: white;}#sk-container-id-3 div.sk-parallel-item:first-child::after {align-self: flex-end;width: 50%;}#sk-container-id-3 div.sk-parallel-item:last-child::after {align-self: flex-start;width: 50%;}#sk-container-id-3 div.sk-parallel-item:only-child::after {width: 0;}#sk-container-id-3 div.sk-dashed-wrapped {border: 1px dashed gray;margin: 0 0.4em 0.5em 0.4em;box-sizing: border-box;padding-bottom: 0.4em;background-color: white;}#sk-container-id-3 div.sk-label label {font-family: monospace;font-weight: bold;display: inline-block;line-height: 1.2em;}#sk-container-id-3 div.sk-label-container {text-align: center;}#sk-container-id-3 div.sk-container {/* jupyter's `normalize.less` sets `[hidden] { display: none; }` but bootstrap.min.css set `[hidden] { display: none !important; }` so we also need the `!important` here to be able to override the default hidden behavior on the sphinx rendered scikit-learn.org. See: https://github.com/scikit-learn/scikit-learn/issues/21755 */display: inline-block !important;position: relative;}#sk-container-id-3 div.sk-text-repr-fallback {display: none;}</style><div id=\"sk-container-id-3\" class=\"sk-top-container\"><div class=\"sk-text-repr-fallback\"><pre>LogisticRegression()</pre><b>In a Jupyter environment, please rerun this cell to show the HTML representation or trust the notebook. <br />On GitHub, the HTML representation is unable to render, please try loading this page with nbviewer.org.</b></div><div class=\"sk-container\" hidden><div class=\"sk-item\"><div class=\"sk-estimator sk-toggleable\"><input class=\"sk-toggleable__control sk-hidden--visually\" id=\"sk-estimator-id-3\" type=\"checkbox\" checked><label for=\"sk-estimator-id-3\" class=\"sk-toggleable__label sk-toggleable__label-arrow\">LogisticRegression</label><div class=\"sk-toggleable__content\"><pre>LogisticRegression()</pre></div></div></div></div></div>"
            ]
          },
          "metadata": {},
          "execution_count": 28
        }
      ]
    },
    {
      "cell_type": "code",
      "metadata": {
        "id": "NfqW9uR9481f",
        "colab": {
          "base_uri": "https://localhost:8080/"
        },
        "outputId": "a86e2942-9e0a-4642-caa7-324d3b54212f"
      },
      "source": [
        "lr.predict(X_test)"
      ],
      "execution_count": null,
      "outputs": [
        {
          "output_type": "execute_result",
          "data": {
            "text/plain": [
              "array([0, 0, 2, 0, 1, 0, 1, 2, 1, 2, 1, 2, 0, 1, 0, 1, 1, 1, 0, 1, 0, 1,\n",
              "       1, 2, 2, 2, 1, 1, 1, 0, 0, 1, 2, 0, 0, 0, 2, 2, 1, 2, 0, 1, 1, 1,\n",
              "       2])"
            ]
          },
          "metadata": {},
          "execution_count": 29
        }
      ]
    },
    {
      "cell_type": "code",
      "metadata": {
        "id": "DNUNJ6NLby5J",
        "colab": {
          "base_uri": "https://localhost:8080/"
        },
        "outputId": "6556a3df-0eca-42fc-ae69-c0df12d1c4b1"
      },
      "source": [
        "# вероятность принадлежности к тому или иному классу\n",
        "lr.predict_proba(X_test)"
      ],
      "execution_count": null,
      "outputs": [
        {
          "output_type": "execute_result",
          "data": {
            "text/plain": [
              "array([[9.73067203e-01, 1.30618394e-02, 1.38709577e-02],\n",
              "       [9.88784150e-01, 1.42686917e-03, 9.78898124e-03],\n",
              "       [4.84491458e-02, 2.30996350e-01, 7.20554504e-01],\n",
              "       [9.96850907e-01, 1.24762390e-03, 1.90146941e-03],\n",
              "       [6.37663483e-02, 9.07851033e-01, 2.83826184e-02],\n",
              "       [9.94127474e-01, 3.39607679e-04, 5.53291791e-03],\n",
              "       [1.40142983e-02, 9.85599014e-01, 3.86687685e-04],\n",
              "       [5.42638129e-03, 3.17422922e-04, 9.94256196e-01],\n",
              "       [4.43832047e-02, 9.55353350e-01, 2.63445592e-04],\n",
              "       [1.54139186e-01, 1.44733104e-02, 8.31387503e-01],\n",
              "       [4.85179105e-01, 5.12883085e-01, 1.93781048e-03],\n",
              "       [1.13324555e-04, 2.21974796e-04, 9.99664701e-01],\n",
              "       [9.92550072e-01, 3.63470078e-03, 3.81522680e-03],\n",
              "       [6.17146023e-02, 8.01472495e-01, 1.36812903e-01],\n",
              "       [9.93260767e-01, 1.14165281e-05, 6.72781652e-03],\n",
              "       [2.88609367e-04, 9.99626376e-01, 8.50151014e-05],\n",
              "       [1.75622046e-03, 9.97068558e-01, 1.17522175e-03],\n",
              "       [2.90945963e-03, 9.96773457e-01, 3.17083693e-04],\n",
              "       [9.92746820e-01, 2.61190245e-04, 6.99198978e-03],\n",
              "       [5.70025370e-04, 9.99210177e-01, 2.19797435e-04],\n",
              "       [9.99773105e-01, 1.38776522e-08, 2.26881588e-04],\n",
              "       [4.31622551e-01, 5.54804464e-01, 1.35729854e-02],\n",
              "       [2.94508122e-01, 5.82394224e-01, 1.23097654e-01],\n",
              "       [3.77597718e-04, 5.94586787e-05, 9.99562944e-01],\n",
              "       [9.47545134e-05, 2.88598812e-06, 9.99902359e-01],\n",
              "       [3.22739700e-04, 8.57759173e-06, 9.99668683e-01],\n",
              "       [4.61108585e-05, 9.99911257e-01, 4.26323372e-05],\n",
              "       [4.05870060e-01, 5.47171858e-01, 4.69580818e-02],\n",
              "       [1.00600929e-02, 9.87297797e-01, 2.64211005e-03],\n",
              "       [9.76975885e-01, 3.65921123e-03, 1.93649038e-02],\n",
              "       [9.94161793e-01, 4.45439285e-03, 1.38381431e-03],\n",
              "       [3.98274498e-05, 9.99940579e-01, 1.95932073e-05],\n",
              "       [2.48226545e-01, 9.59533376e-02, 6.55820117e-01],\n",
              "       [9.99263687e-01, 2.94606257e-06, 7.33366714e-04],\n",
              "       [9.99614491e-01, 2.05866535e-05, 3.64922796e-04],\n",
              "       [9.99226288e-01, 3.86548057e-04, 3.87164017e-04],\n",
              "       [6.35722102e-05, 3.36995355e-07, 9.99936091e-01],\n",
              "       [3.76790256e-03, 3.77841913e-02, 9.58447906e-01],\n",
              "       [3.62099533e-01, 6.34047884e-01, 3.85258316e-03],\n",
              "       [2.00113006e-04, 1.18610680e-06, 9.99798701e-01],\n",
              "       [9.88594009e-01, 1.00315231e-02, 1.37446827e-03],\n",
              "       [4.40019002e-04, 9.99399013e-01, 1.60967933e-04],\n",
              "       [2.67619179e-03, 9.96998717e-01, 3.25090790e-04],\n",
              "       [2.68774945e-01, 6.89808829e-01, 4.14162252e-02],\n",
              "       [8.25281804e-02, 1.55061399e-01, 7.62410421e-01]])"
            ]
          },
          "metadata": {},
          "execution_count": 30
        }
      ]
    },
    {
      "cell_type": "code",
      "source": [
        "res = lr.predict_proba(X_test)\n",
        "sum(res[0])"
      ],
      "metadata": {
        "colab": {
          "base_uri": "https://localhost:8080/"
        },
        "id": "AeVlqtYzivPC",
        "outputId": "f69bedca-80a1-49e7-f480-c8272d48fcf6"
      },
      "execution_count": null,
      "outputs": [
        {
          "output_type": "execute_result",
          "data": {
            "text/plain": [
              "1.0"
            ]
          },
          "metadata": {},
          "execution_count": 31
        }
      ]
    },
    {
      "cell_type": "code",
      "metadata": {
        "id": "qqFys9hT4_Eo",
        "colab": {
          "base_uri": "https://localhost:8080/"
        },
        "outputId": "178defa0-ed91-4db0-90e4-60668fd2fbf8"
      },
      "source": [
        "accuracy_score(y_test, lr.predict(X_test))"
      ],
      "execution_count": null,
      "outputs": [
        {
          "output_type": "execute_result",
          "data": {
            "text/plain": [
              "0.9777777777777777"
            ]
          },
          "metadata": {},
          "execution_count": 32
        }
      ]
    },
    {
      "cell_type": "code",
      "metadata": {
        "id": "1Ei0UlN55CZ_",
        "colab": {
          "base_uri": "https://localhost:8080/"
        },
        "outputId": "da067d69-c972-4386-9e39-a3a3ded56b07"
      },
      "source": [
        "lr.coef_"
      ],
      "execution_count": null,
      "outputs": [
        {
          "output_type": "execute_result",
          "data": {
            "text/plain": [
              "array([[ 9.30887614e-04,  1.68583766e-01,  1.29250735e-01,\n",
              "        -2.50138694e-01, -2.52902076e-02,  1.96627900e-01,\n",
              "         4.02185949e-01, -8.90741392e-03,  4.83941705e-02,\n",
              "         2.10312085e-02, -3.95097306e-03,  2.43174764e-01,\n",
              "         7.10143352e-03],\n",
              "       [ 2.30359820e-01, -5.08681510e-01, -1.38185066e-01,\n",
              "         2.40687838e-01,  1.08032180e-02,  1.61483020e-01,\n",
              "         3.03340380e-01,  8.41679283e-03,  2.80627161e-01,\n",
              "        -1.09362358e+00,  1.88909992e-01,  3.79263989e-01,\n",
              "        -6.31940925e-03],\n",
              "       [-2.31290708e-01,  3.40097744e-01,  8.93433072e-03,\n",
              "         9.45085606e-03,  1.44869896e-02, -3.58110920e-01,\n",
              "        -7.05526328e-01,  4.90621087e-04, -3.29021332e-01,\n",
              "         1.07259237e+00, -1.84959018e-01, -6.22438753e-01,\n",
              "        -7.82024268e-04]])"
            ]
          },
          "metadata": {},
          "execution_count": 33
        }
      ]
    },
    {
      "cell_type": "markdown",
      "metadata": {
        "id": "UJefBk-e58kX"
      },
      "source": [
        "## Кластеризация"
      ]
    },
    {
      "cell_type": "code",
      "metadata": {
        "id": "ZK-UchxSXREG"
      },
      "source": [
        "# генерируем искусвтенные данные для примера\n",
        "from sklearn.datasets import make_blobs"
      ],
      "execution_count": null,
      "outputs": []
    },
    {
      "cell_type": "code",
      "metadata": {
        "id": "_NxdrQ7RXSF5",
        "colab": {
          "base_uri": "https://localhost:8080/"
        },
        "outputId": "f018c0d3-5242-4145-c2ec-aafc9aa48470"
      },
      "source": [
        "# 200 точек с 2 центрами, СКО - 2.5\n",
        "X, y = make_blobs(n_samples=200, centers=2, cluster_std=2.5)\n",
        "X"
      ],
      "execution_count": null,
      "outputs": [
        {
          "output_type": "execute_result",
          "data": {
            "text/plain": [
              "array([[ 1.00064130e+01, -8.48286061e+00],\n",
              "       [ 1.18092848e+01, -6.49315573e+00],\n",
              "       [ 5.38138351e+00, -1.02139863e+00],\n",
              "       [ 8.09561911e+00, -8.57245351e+00],\n",
              "       [ 9.38105448e+00, -5.16618693e+00],\n",
              "       [ 9.90768539e+00, -7.62928176e+00],\n",
              "       [ 7.45188949e+00, -1.10653747e+01],\n",
              "       [ 8.76382442e+00, -7.93858655e+00],\n",
              "       [ 7.55797548e+00, -6.38900831e+00],\n",
              "       [ 3.40192584e+00, -6.37260095e-01],\n",
              "       [ 5.64174725e-01,  4.50410904e+00],\n",
              "       [ 3.39625698e+00,  2.44667015e+00],\n",
              "       [ 1.08641905e+01, -9.27863646e+00],\n",
              "       [ 1.01590962e+01, -7.28242805e+00],\n",
              "       [-2.77989652e+00,  4.29161320e+00],\n",
              "       [ 1.51737935e+01, -2.41315699e+00],\n",
              "       [ 1.26657284e+01, -5.58467581e+00],\n",
              "       [ 4.99170326e+00, -1.94992124e+00],\n",
              "       [ 2.42138307e+00, -1.81832571e+00],\n",
              "       [ 6.57189744e+00, -5.80565986e+00],\n",
              "       [ 3.73404205e+00, -3.61957184e+00],\n",
              "       [-4.94649701e-01,  3.51062909e+00],\n",
              "       [ 1.25389954e+01, -3.33863884e+00],\n",
              "       [-1.54794896e-01,  1.16223699e+00],\n",
              "       [ 3.56415168e+00,  2.46965214e+00],\n",
              "       [ 1.92901010e+00,  3.04533065e+00],\n",
              "       [ 6.30435343e+00, -2.85329704e+00],\n",
              "       [ 7.80595392e+00, -4.20858875e+00],\n",
              "       [ 1.03411816e+01, -6.59549803e+00],\n",
              "       [ 1.73113825e+00,  1.77952511e+00],\n",
              "       [ 1.38962028e+00,  1.04303261e+00],\n",
              "       [ 8.55397520e+00, -5.44712986e+00],\n",
              "       [ 9.33056707e+00, -3.74621319e+00],\n",
              "       [-1.43942125e+00, -1.67517733e-01],\n",
              "       [ 1.27710842e+01, -5.08475665e+00],\n",
              "       [ 8.32620393e+00, -2.18098980e+00],\n",
              "       [-4.81832653e+00, -3.08579649e+00],\n",
              "       [ 1.94197953e+00, -6.15365818e-01],\n",
              "       [ 4.73979354e+00, -8.49823181e+00],\n",
              "       [ 5.59719114e+00, -1.62846263e+00],\n",
              "       [-1.69501690e+00,  2.96043082e+00],\n",
              "       [ 8.05554505e+00, -9.83074680e+00],\n",
              "       [ 6.06354353e-01,  1.08373258e+00],\n",
              "       [ 3.06027436e+00, -6.27797426e-01],\n",
              "       [ 1.74044214e+00, -1.61980270e+00],\n",
              "       [ 1.06036126e+00,  2.83551709e+00],\n",
              "       [ 5.62017076e+00, -6.15573094e+00],\n",
              "       [ 6.21392536e+00, -8.16059531e+00],\n",
              "       [ 2.00929145e+00,  1.88748734e+00],\n",
              "       [ 9.93234631e-01,  1.93143225e+00],\n",
              "       [ 2.74994608e+00,  1.93369837e+00],\n",
              "       [ 4.04832522e+00,  6.82675273e-01],\n",
              "       [ 7.97249978e+00, -7.35435233e+00],\n",
              "       [-3.43996849e+00,  4.94051909e+00],\n",
              "       [ 9.33445259e+00, -4.14272781e-01],\n",
              "       [ 3.83171193e+00, -8.11289370e-01],\n",
              "       [ 1.05656670e+01, -2.39349491e+00],\n",
              "       [ 4.08893193e+00, -3.39063402e+00],\n",
              "       [ 9.55049614e+00, -2.05664919e+00],\n",
              "       [ 6.18942752e+00, -7.77928060e+00],\n",
              "       [ 1.26012230e+00,  4.67979117e-01],\n",
              "       [-5.65514912e-01,  4.73225346e+00],\n",
              "       [ 8.14664706e+00, -7.62368497e+00],\n",
              "       [ 5.43878291e+00, -5.02746206e+00],\n",
              "       [ 8.84442613e+00, -5.53176340e+00],\n",
              "       [ 9.80666899e+00, -1.12313651e+01],\n",
              "       [-3.43260710e+00,  1.45171838e+00],\n",
              "       [ 6.11025713e+00,  3.58422095e+00],\n",
              "       [ 5.84507520e+00, -6.71475613e+00],\n",
              "       [ 3.28452570e+00,  3.78749260e+00],\n",
              "       [ 8.53680739e+00, -8.81413085e+00],\n",
              "       [ 1.10602300e+01, -9.42990901e+00],\n",
              "       [ 2.18909239e+00, -8.81370702e-01],\n",
              "       [ 9.51735514e+00, -5.28619663e+00],\n",
              "       [ 3.78702667e+00,  1.25589240e+00],\n",
              "       [ 4.06857096e+00, -8.17134588e-02],\n",
              "       [ 3.09600782e+00,  3.88636720e+00],\n",
              "       [ 5.28473894e+00,  3.52096743e+00],\n",
              "       [ 9.89127127e+00, -8.50096336e+00],\n",
              "       [-3.18342235e-01, -1.64961768e+00],\n",
              "       [ 8.86457711e+00, -2.76315242e+00],\n",
              "       [ 7.08775583e+00, -4.53389957e+00],\n",
              "       [ 7.74349717e+00, -4.39353515e+00],\n",
              "       [ 9.70323909e+00, -2.20928260e+00],\n",
              "       [ 7.02551784e+00, -2.68609633e+00],\n",
              "       [ 2.00151036e+00,  1.53834385e+00],\n",
              "       [ 5.98211352e+00, -1.92673900e+00],\n",
              "       [ 5.69736543e+00, -4.35337437e+00],\n",
              "       [ 2.86709713e+00, -2.07393663e-02],\n",
              "       [ 4.40043327e+00, -5.29653421e+00],\n",
              "       [ 5.59073573e+00, -2.97128222e+00],\n",
              "       [ 5.42136806e+00,  7.10679349e-01],\n",
              "       [ 5.25236919e+00,  1.95583537e+00],\n",
              "       [ 3.68176149e+00,  3.09129223e+00],\n",
              "       [ 1.32512149e-01,  3.89415148e-01],\n",
              "       [ 4.89054999e+00, -8.92251997e+00],\n",
              "       [ 1.26398974e+01, -7.19700040e+00],\n",
              "       [ 3.10142562e+00,  3.86790425e+00],\n",
              "       [ 4.86422107e+00, -6.94906815e+00],\n",
              "       [ 2.18593211e+00,  4.73381077e-01],\n",
              "       [ 7.41781943e+00, -4.70590457e+00],\n",
              "       [ 1.27999452e+01, -5.98955850e+00],\n",
              "       [ 8.23450613e+00, -7.14389786e+00],\n",
              "       [ 1.04251872e+01, -7.29777550e+00],\n",
              "       [ 8.58842949e+00, -9.83044212e+00],\n",
              "       [ 1.26111946e+00, -9.77869569e-01],\n",
              "       [ 7.54400742e+00, -3.71092916e+00],\n",
              "       [ 2.66390461e+00,  1.53704466e+00],\n",
              "       [ 9.07955020e+00, -2.60606267e+00],\n",
              "       [ 2.37994334e+00,  2.63529571e+00],\n",
              "       [ 6.22594787e-01,  3.56569930e+00],\n",
              "       [-1.26692723e+00, -3.76070354e-01],\n",
              "       [ 1.81880180e+00,  4.95362506e+00],\n",
              "       [ 3.54723680e+00, -7.52114126e-01],\n",
              "       [ 5.04957492e+00, -1.03447284e+01],\n",
              "       [ 2.27067331e+00,  1.45348582e-02],\n",
              "       [ 4.15833797e+00, -5.55155750e+00],\n",
              "       [ 1.20985020e-02, -5.27027645e-01],\n",
              "       [ 7.05235047e+00, -3.39302084e+00],\n",
              "       [ 1.30956105e+00,  1.13194723e+00],\n",
              "       [ 5.34321175e+00, -5.11707348e+00],\n",
              "       [-8.28915434e-01, -1.78029426e+00],\n",
              "       [ 9.80714206e+00, -7.11670345e+00],\n",
              "       [ 2.41593095e+00, -8.10349796e-01],\n",
              "       [ 1.07583217e+01, -7.24009371e+00],\n",
              "       [ 1.13226796e+01, -8.18250073e+00],\n",
              "       [-1.42955183e+00,  3.41972455e+00],\n",
              "       [ 1.26063276e+00,  1.10923916e+00],\n",
              "       [ 1.01517446e+01, -5.78719787e+00],\n",
              "       [ 5.02948982e+00,  4.34310605e+00],\n",
              "       [ 9.35192850e+00, -5.62834512e+00],\n",
              "       [ 1.04914009e+01, -9.65573236e+00],\n",
              "       [ 7.86253574e+00, -5.86312535e+00],\n",
              "       [ 3.21251680e+00,  3.44349804e+00],\n",
              "       [ 1.03860283e+01, -7.64290295e+00],\n",
              "       [ 3.90781777e+00, -1.80424849e+00],\n",
              "       [ 4.98746954e+00, -2.45957909e+00],\n",
              "       [-1.67669893e+00,  2.06598434e+00],\n",
              "       [ 7.25529106e+00, -7.94033211e+00],\n",
              "       [-1.41836321e+00,  1.63100580e-01],\n",
              "       [-1.67868569e-01,  1.03811644e+00],\n",
              "       [-2.17457698e+00,  2.11733811e+00],\n",
              "       [ 1.05715455e+01, -7.74637526e+00],\n",
              "       [ 1.24205277e+01, -3.53985601e+00],\n",
              "       [ 9.59793990e+00, -1.83848700e+00],\n",
              "       [ 8.60280200e+00, -4.48764226e+00],\n",
              "       [ 6.29116321e+00, -7.22248601e+00],\n",
              "       [ 4.48186649e+00,  1.33873335e+00],\n",
              "       [ 1.80345283e+00, -2.27323312e+00],\n",
              "       [ 5.11464923e+00,  6.17621188e-01],\n",
              "       [ 9.89780870e+00, -5.75628491e+00],\n",
              "       [ 4.38230584e+00,  7.32149846e-01],\n",
              "       [ 8.85468402e+00, -8.42997965e+00],\n",
              "       [ 7.73049044e+00, -4.86257060e+00],\n",
              "       [ 1.06190919e+01, -4.47816001e+00],\n",
              "       [ 1.38894702e+00,  5.81589990e+00],\n",
              "       [ 1.10802700e+01, -6.12475142e+00],\n",
              "       [ 2.43302438e+00,  5.64587465e-01],\n",
              "       [ 2.65183084e+00,  4.45230491e+00],\n",
              "       [ 3.47826076e+00,  1.00006129e-01],\n",
              "       [ 3.15329053e+00, -5.34363637e+00],\n",
              "       [ 8.02636287e-01,  4.46433160e+00],\n",
              "       [-4.93468277e+00,  3.94561410e+00],\n",
              "       [-1.29571166e+00,  2.44900812e+00],\n",
              "       [ 7.57808976e+00, -5.59063767e+00],\n",
              "       [ 8.57582674e+00, -9.47540066e+00],\n",
              "       [ 9.96555131e+00, -9.71772453e+00],\n",
              "       [ 1.01345698e+01, -6.66519981e+00],\n",
              "       [-1.03453824e+00, -1.76748480e-01],\n",
              "       [ 1.12441355e+00,  3.10325891e+00],\n",
              "       [ 5.97780390e+00, -7.43339089e+00],\n",
              "       [ 8.57913203e+00, -5.81323404e+00],\n",
              "       [ 5.02713235e+00, -8.91533941e+00],\n",
              "       [ 4.43664291e+00, -5.99332537e+00],\n",
              "       [-3.21924449e+00,  6.45358664e+00],\n",
              "       [ 5.37544012e+00,  1.85659024e+00],\n",
              "       [ 1.29898498e+00, -1.48600077e+00],\n",
              "       [ 1.12342889e+01, -5.45890221e+00],\n",
              "       [ 1.80170739e+00,  9.73723660e-01],\n",
              "       [ 6.46673193e+00, -9.46486936e+00],\n",
              "       [ 7.36538086e+00, -1.10827477e+01],\n",
              "       [ 5.64037972e+00, -4.25688937e+00],\n",
              "       [ 1.18466199e+01, -1.08111592e+00],\n",
              "       [ 1.31187837e+01, -5.66976718e+00],\n",
              "       [ 1.30402482e+00,  4.08226880e+00],\n",
              "       [ 2.64655324e+00,  2.05878329e+00],\n",
              "       [ 1.68620992e+00,  2.20278727e+00],\n",
              "       [ 1.97407279e+00,  8.63429139e-02],\n",
              "       [ 9.84626513e-01, -2.99136412e+00],\n",
              "       [ 1.37110720e+01, -5.08810414e+00],\n",
              "       [ 8.62913783e+00, -8.04545909e+00],\n",
              "       [ 1.31246164e+01, -7.36816249e+00],\n",
              "       [ 6.94093850e+00, -2.98436791e+00],\n",
              "       [ 7.98115724e+00, -8.00475081e+00],\n",
              "       [ 1.91469379e+00,  2.72701860e+00],\n",
              "       [ 2.34812441e+00,  1.68134104e+00],\n",
              "       [ 8.08016264e+00, -2.33995577e+00],\n",
              "       [ 2.55547738e+00,  5.16959794e-01],\n",
              "       [-3.64623936e-01,  3.93254573e+00],\n",
              "       [ 1.29784068e+01, -7.78690094e+00]])"
            ]
          },
          "metadata": {},
          "execution_count": 44
        }
      ]
    },
    {
      "cell_type": "code",
      "source": [
        "help(make_blobs)"
      ],
      "metadata": {
        "id": "VOk8lFxzhOKf",
        "outputId": "2bcbd530-bba7-4dfb-df8d-010f6ae00ff3",
        "colab": {
          "base_uri": "https://localhost:8080/"
        }
      },
      "execution_count": null,
      "outputs": [
        {
          "output_type": "stream",
          "name": "stdout",
          "text": [
            "Help on function make_blobs in module sklearn.datasets._samples_generator:\n",
            "\n",
            "make_blobs(n_samples=100, n_features=2, *, centers=None, cluster_std=1.0, center_box=(-10.0, 10.0), shuffle=True, random_state=None, return_centers=False)\n",
            "    Generate isotropic Gaussian blobs for clustering.\n",
            "    \n",
            "    Read more in the :ref:`User Guide <sample_generators>`.\n",
            "    \n",
            "    Parameters\n",
            "    ----------\n",
            "    n_samples : int or array-like, default=100\n",
            "        If int, it is the total number of points equally divided among\n",
            "        clusters.\n",
            "        If array-like, each element of the sequence indicates\n",
            "        the number of samples per cluster.\n",
            "    \n",
            "        .. versionchanged:: v0.20\n",
            "            one can now pass an array-like to the ``n_samples`` parameter\n",
            "    \n",
            "    n_features : int, default=2\n",
            "        The number of features for each sample.\n",
            "    \n",
            "    centers : int or ndarray of shape (n_centers, n_features), default=None\n",
            "        The number of centers to generate, or the fixed center locations.\n",
            "        If n_samples is an int and centers is None, 3 centers are generated.\n",
            "        If n_samples is array-like, centers must be\n",
            "        either None or an array of length equal to the length of n_samples.\n",
            "    \n",
            "    cluster_std : float or array-like of float, default=1.0\n",
            "        The standard deviation of the clusters.\n",
            "    \n",
            "    center_box : tuple of float (min, max), default=(-10.0, 10.0)\n",
            "        The bounding box for each cluster center when centers are\n",
            "        generated at random.\n",
            "    \n",
            "    shuffle : bool, default=True\n",
            "        Shuffle the samples.\n",
            "    \n",
            "    random_state : int, RandomState instance or None, default=None\n",
            "        Determines random number generation for dataset creation. Pass an int\n",
            "        for reproducible output across multiple function calls.\n",
            "        See :term:`Glossary <random_state>`.\n",
            "    \n",
            "    return_centers : bool, default=False\n",
            "        If True, then return the centers of each cluster.\n",
            "    \n",
            "        .. versionadded:: 0.23\n",
            "    \n",
            "    Returns\n",
            "    -------\n",
            "    X : ndarray of shape (n_samples, n_features)\n",
            "        The generated samples.\n",
            "    \n",
            "    y : ndarray of shape (n_samples,)\n",
            "        The integer labels for cluster membership of each sample.\n",
            "    \n",
            "    centers : ndarray of shape (n_centers, n_features)\n",
            "        The centers of each cluster. Only returned if\n",
            "        ``return_centers=True``.\n",
            "    \n",
            "    See Also\n",
            "    --------\n",
            "    make_classification : A more intricate variant.\n",
            "    \n",
            "    Examples\n",
            "    --------\n",
            "    >>> from sklearn.datasets import make_blobs\n",
            "    >>> X, y = make_blobs(n_samples=10, centers=3, n_features=2,\n",
            "    ...                   random_state=0)\n",
            "    >>> print(X.shape)\n",
            "    (10, 2)\n",
            "    >>> y\n",
            "    array([0, 0, 1, 0, 2, 2, 2, 1, 1, 0])\n",
            "    >>> X, y = make_blobs(n_samples=[3, 3, 4], centers=None, n_features=2,\n",
            "    ...                   random_state=0)\n",
            "    >>> print(X.shape)\n",
            "    (10, 2)\n",
            "    >>> y\n",
            "    array([0, 1, 2, 0, 2, 2, 2, 1, 1, 0])\n",
            "\n"
          ]
        }
      ]
    },
    {
      "cell_type": "code",
      "metadata": {
        "id": "TjSYaC57XUeq",
        "scrolled": true,
        "colab": {
          "base_uri": "https://localhost:8080/",
          "height": 485
        },
        "outputId": "7dc91fe7-a926-4007-ad15-40e7f4c52a4e"
      },
      "source": [
        "plt.scatter(X[:, 0], X[:, 1], cmap='autumn', s=60)"
      ],
      "execution_count": null,
      "outputs": [
        {
          "output_type": "stream",
          "name": "stderr",
          "text": [
            "<ipython-input-36-a3a6361253ac>:1: UserWarning: No data for colormapping provided via 'c'. Parameters 'cmap' will be ignored\n",
            "  plt.scatter(X[:, 0], X[:, 1], cmap='autumn', s=60)\n"
          ]
        },
        {
          "output_type": "execute_result",
          "data": {
            "text/plain": [
              "<matplotlib.collections.PathCollection at 0x7f1628339fa0>"
            ]
          },
          "metadata": {},
          "execution_count": 36
        },
        {
          "output_type": "display_data",
          "data": {
            "text/plain": [
              "<Figure size 640x480 with 1 Axes>"
            ],
            "image/png": "[encoded data removed]"
          },
          "metadata": {}
        }
      ]
    },
    {
      "cell_type": "code",
      "metadata": {
        "id": "bWdNYOIqzzO-"
      },
      "source": [
        "# приведем данные к единому масштабу\n",
        "from sklearn.preprocessing import StandardScaler"
      ],
      "execution_count": null,
      "outputs": []
    },
    {
      "cell_type": "code",
      "metadata": {
        "id": "NzLJH0GBXGwQ"
      },
      "source": [
        "scaler = StandardScaler()"
      ],
      "execution_count": null,
      "outputs": []
    },
    {
      "cell_type": "markdown",
      "metadata": {
        "id": "JcyHcWN-by5Q"
      },
      "source": [
        "В реальных задачах при разделении выборки на train и test нужно обучать StandardScaler только на тренировочных данных (и применять уже к тестовым данным).\n"
      ]
    },
    {
      "cell_type": "code",
      "metadata": {
        "id": "ZjwJ2Nbxby5Q"
      },
      "source": [
        "v_1 = np.array(np.random.randint(0, 1000, 500))\n",
        "v_2 = np.array(np.random.randint(0, 10, 500))"
      ],
      "execution_count": null,
      "outputs": []
    },
    {
      "cell_type": "code",
      "metadata": {
        "id": "ejb3KNymby5R",
        "colab": {
          "base_uri": "https://localhost:8080/"
        },
        "outputId": "ca19a4fc-7b84-41b6-a2e4-8d9d3f7c765a"
      },
      "source": [
        "print(v_1.max())\n",
        "print(v_1.min())\n",
        "\n",
        "print(v_2.max())\n",
        "print(v_2.min())"
      ],
      "execution_count": null,
      "outputs": [
        {
          "output_type": "stream",
          "name": "stdout",
          "text": [
            "997\n",
            "0\n",
            "9\n",
            "0\n"
          ]
        }
      ]
    },
    {
      "cell_type": "code",
      "metadata": {
        "id": "l6wzLVZ-by5R",
        "colab": {
          "base_uri": "https://localhost:8080/"
        },
        "outputId": "e99fa120-78ab-401f-f424-212c6bd82cff"
      },
      "source": [
        "v_1_scaled = scaler.fit_transform(v_1.reshape(-1, 1))\n",
        "v_1_scaled\n",
        "v_2_scaled = scaler.fit_transform(v_2.reshape(-1, 1))\n",
        "v_2_scaled"
      ],
      "execution_count": null,
      "outputs": [
        {
          "output_type": "execute_result",
          "data": {
            "text/plain": [
              "array([[ 0.21334388],\n",
              "       [-0.84631116],\n",
              "       [-0.49309281],\n",
              "       [ 1.62621726],\n",
              "       [ 1.27299892],\n",
              "       [-1.55274785],\n",
              "       [ 1.27299892],\n",
              "       [-0.13987446],\n",
              "       [ 0.21334388],\n",
              "       [ 0.91978057],\n",
              "       [ 1.27299892],\n",
              "       [-0.49309281],\n",
              "       [ 0.21334388],\n",
              "       [-1.1995295 ],\n",
              "       [-1.1995295 ],\n",
              "       [ 0.56656223],\n",
              "       [-1.1995295 ],\n",
              "       [-0.13987446],\n",
              "       [ 1.62621726],\n",
              "       [-0.13987446],\n",
              "       [-0.13987446],\n",
              "       [-0.13987446],\n",
              "       [ 0.21334388],\n",
              "       [-1.55274785],\n",
              "       [-1.1995295 ],\n",
              "       [ 0.91978057],\n",
              "       [ 0.56656223],\n",
              "       [-1.55274785],\n",
              "       [ 0.21334388],\n",
              "       [ 0.91978057],\n",
              "       [-1.55274785],\n",
              "       [-1.55274785],\n",
              "       [-0.13987446],\n",
              "       [-0.13987446],\n",
              "       [ 1.62621726],\n",
              "       [-0.13987446],\n",
              "       [-1.1995295 ],\n",
              "       [ 0.21334388],\n",
              "       [-0.49309281],\n",
              "       [-0.13987446],\n",
              "       [-1.55274785],\n",
              "       [ 0.56656223],\n",
              "       [ 0.21334388],\n",
              "       [-1.1995295 ],\n",
              "       [ 0.21334388],\n",
              "       [-0.49309281],\n",
              "       [ 0.21334388],\n",
              "       [ 0.56656223],\n",
              "       [ 0.56656223],\n",
              "       [-0.49309281],\n",
              "       [ 0.91978057],\n",
              "       [ 0.21334388],\n",
              "       [ 0.21334388],\n",
              "       [ 0.91978057],\n",
              "       [-0.13987446],\n",
              "       [ 1.62621726],\n",
              "       [-1.1995295 ],\n",
              "       [ 0.91978057],\n",
              "       [-1.1995295 ],\n",
              "       [ 0.56656223],\n",
              "       [ 1.62621726],\n",
              "       [ 0.21334388],\n",
              "       [ 1.62621726],\n",
              "       [ 0.91978057],\n",
              "       [ 0.91978057],\n",
              "       [-1.55274785],\n",
              "       [-1.55274785],\n",
              "       [-0.84631116],\n",
              "       [ 0.91978057],\n",
              "       [ 1.27299892],\n",
              "       [-1.55274785],\n",
              "       [ 1.62621726],\n",
              "       [ 0.56656223],\n",
              "       [-1.1995295 ],\n",
              "       [ 1.27299892],\n",
              "       [-0.13987446],\n",
              "       [ 0.91978057],\n",
              "       [ 1.62621726],\n",
              "       [ 1.62621726],\n",
              "       [-0.49309281],\n",
              "       [-1.55274785],\n",
              "       [-0.49309281],\n",
              "       [ 0.21334388],\n",
              "       [-1.1995295 ],\n",
              "       [ 0.91978057],\n",
              "       [ 0.91978057],\n",
              "       [-0.13987446],\n",
              "       [-1.55274785],\n",
              "       [ 0.56656223],\n",
              "       [-1.1995295 ],\n",
              "       [-0.84631116],\n",
              "       [-0.49309281],\n",
              "       [ 0.91978057],\n",
              "       [ 1.27299892],\n",
              "       [-0.49309281],\n",
              "       [ 0.91978057],\n",
              "       [ 1.62621726],\n",
              "       [-0.49309281],\n",
              "       [-1.55274785],\n",
              "       [-0.13987446],\n",
              "       [-1.55274785],\n",
              "       [-0.13987446],\n",
              "       [ 0.91978057],\n",
              "       [-0.84631116],\n",
              "       [ 0.91978057],\n",
              "       [ 0.91978057],\n",
              "       [-0.84631116],\n",
              "       [ 1.62621726],\n",
              "       [-0.13987446],\n",
              "       [ 1.27299892],\n",
              "       [-1.1995295 ],\n",
              "       [ 0.56656223],\n",
              "       [-1.55274785],\n",
              "       [-1.55274785],\n",
              "       [-0.49309281],\n",
              "       [-1.55274785],\n",
              "       [-0.13987446],\n",
              "       [ 0.56656223],\n",
              "       [ 1.27299892],\n",
              "       [-1.55274785],\n",
              "       [ 0.91978057],\n",
              "       [ 0.91978057],\n",
              "       [ 0.91978057],\n",
              "       [ 0.91978057],\n",
              "       [-0.13987446],\n",
              "       [-0.13987446],\n",
              "       [-1.1995295 ],\n",
              "       [-0.49309281],\n",
              "       [-0.84631116],\n",
              "       [ 0.21334388],\n",
              "       [ 0.21334388],\n",
              "       [ 1.27299892],\n",
              "       [-0.84631116],\n",
              "       [ 0.21334388],\n",
              "       [ 0.21334388],\n",
              "       [ 0.21334388],\n",
              "       [-0.84631116],\n",
              "       [-1.55274785],\n",
              "       [-0.84631116],\n",
              "       [-0.49309281],\n",
              "       [ 0.91978057],\n",
              "       [-1.1995295 ],\n",
              "       [ 1.27299892],\n",
              "       [ 0.21334388],\n",
              "       [ 0.56656223],\n",
              "       [ 1.27299892],\n",
              "       [-0.49309281],\n",
              "       [-0.84631116],\n",
              "       [ 0.21334388],\n",
              "       [-1.55274785],\n",
              "       [-0.13987446],\n",
              "       [-0.13987446],\n",
              "       [-1.55274785],\n",
              "       [-0.49309281],\n",
              "       [-1.1995295 ],\n",
              "       [ 0.21334388],\n",
              "       [ 1.27299892],\n",
              "       [ 0.91978057],\n",
              "       [ 1.62621726],\n",
              "       [-0.49309281],\n",
              "       [ 1.27299892],\n",
              "       [ 1.27299892],\n",
              "       [-0.13987446],\n",
              "       [ 0.21334388],\n",
              "       [ 0.56656223],\n",
              "       [ 1.62621726],\n",
              "       [-1.55274785],\n",
              "       [ 1.27299892],\n",
              "       [ 1.62621726],\n",
              "       [ 1.27299892],\n",
              "       [ 1.62621726],\n",
              "       [ 0.56656223],\n",
              "       [ 0.56656223],\n",
              "       [-0.49309281],\n",
              "       [ 0.21334388],\n",
              "       [ 1.27299892],\n",
              "       [ 0.21334388],\n",
              "       [ 0.21334388],\n",
              "       [ 1.27299892],\n",
              "       [-0.13987446],\n",
              "       [-0.13987446],\n",
              "       [-0.49309281],\n",
              "       [-0.13987446],\n",
              "       [ 1.27299892],\n",
              "       [-1.1995295 ],\n",
              "       [ 1.27299892],\n",
              "       [-0.84631116],\n",
              "       [-0.13987446],\n",
              "       [-0.49309281],\n",
              "       [-0.84631116],\n",
              "       [ 0.91978057],\n",
              "       [ 1.27299892],\n",
              "       [-1.1995295 ],\n",
              "       [ 1.27299892],\n",
              "       [ 1.27299892],\n",
              "       [ 0.21334388],\n",
              "       [-0.84631116],\n",
              "       [ 0.91978057],\n",
              "       [-1.1995295 ],\n",
              "       [-0.84631116],\n",
              "       [ 1.27299892],\n",
              "       [ 1.62621726],\n",
              "       [-1.1995295 ],\n",
              "       [-0.49309281],\n",
              "       [ 0.91978057],\n",
              "       [-1.1995295 ],\n",
              "       [-0.84631116],\n",
              "       [ 0.91978057],\n",
              "       [-0.13987446],\n",
              "       [ 0.21334388],\n",
              "       [-1.1995295 ],\n",
              "       [ 0.91978057],\n",
              "       [ 0.91978057],\n",
              "       [-1.1995295 ],\n",
              "       [ 0.21334388],\n",
              "       [ 1.27299892],\n",
              "       [ 0.56656223],\n",
              "       [-1.55274785],\n",
              "       [ 0.91978057],\n",
              "       [ 0.91978057],\n",
              "       [-1.1995295 ],\n",
              "       [ 1.62621726],\n",
              "       [-0.49309281],\n",
              "       [-1.1995295 ],\n",
              "       [ 1.27299892],\n",
              "       [-1.55274785],\n",
              "       [-0.84631116],\n",
              "       [ 1.27299892],\n",
              "       [ 0.21334388],\n",
              "       [-0.49309281],\n",
              "       [ 1.27299892],\n",
              "       [ 0.56656223],\n",
              "       [-0.49309281],\n",
              "       [ 0.21334388],\n",
              "       [-0.84631116],\n",
              "       [ 0.91978057],\n",
              "       [ 0.91978057],\n",
              "       [ 1.27299892],\n",
              "       [-0.49309281],\n",
              "       [ 1.27299892],\n",
              "       [-0.84631116],\n",
              "       [-0.84631116],\n",
              "       [ 0.21334388],\n",
              "       [-0.84631116],\n",
              "       [ 1.27299892],\n",
              "       [-0.84631116],\n",
              "       [-1.1995295 ],\n",
              "       [-1.55274785],\n",
              "       [-1.55274785],\n",
              "       [-1.55274785],\n",
              "       [-0.49309281],\n",
              "       [ 0.21334388],\n",
              "       [-1.1995295 ],\n",
              "       [-0.49309281],\n",
              "       [-1.1995295 ],\n",
              "       [ 1.27299892],\n",
              "       [ 0.21334388],\n",
              "       [ 1.27299892],\n",
              "       [-1.1995295 ],\n",
              "       [-1.1995295 ],\n",
              "       [ 0.56656223],\n",
              "       [-1.55274785],\n",
              "       [ 0.91978057],\n",
              "       [-0.49309281],\n",
              "       [ 0.56656223],\n",
              "       [-0.49309281],\n",
              "       [-0.84631116],\n",
              "       [ 1.62621726],\n",
              "       [-1.55274785],\n",
              "       [-0.13987446],\n",
              "       [ 1.62621726],\n",
              "       [-0.49309281],\n",
              "       [ 1.27299892],\n",
              "       [-0.49309281],\n",
              "       [ 0.91978057],\n",
              "       [ 0.21334388],\n",
              "       [ 0.91978057],\n",
              "       [-1.1995295 ],\n",
              "       [ 1.62621726],\n",
              "       [ 1.62621726],\n",
              "       [-0.49309281],\n",
              "       [-1.55274785],\n",
              "       [-0.49309281],\n",
              "       [ 1.62621726],\n",
              "       [ 0.56656223],\n",
              "       [ 1.62621726],\n",
              "       [ 0.91978057],\n",
              "       [ 0.21334388],\n",
              "       [-1.1995295 ],\n",
              "       [ 1.62621726],\n",
              "       [ 0.56656223],\n",
              "       [-1.55274785],\n",
              "       [-0.49309281],\n",
              "       [ 0.56656223],\n",
              "       [-0.13987446],\n",
              "       [-1.1995295 ],\n",
              "       [-0.13987446],\n",
              "       [-0.13987446],\n",
              "       [-0.84631116],\n",
              "       [-0.84631116],\n",
              "       [-1.1995295 ],\n",
              "       [ 1.62621726],\n",
              "       [-1.1995295 ],\n",
              "       [-1.55274785],\n",
              "       [-0.49309281],\n",
              "       [ 0.56656223],\n",
              "       [-0.13987446],\n",
              "       [-0.49309281],\n",
              "       [-1.55274785],\n",
              "       [-1.1995295 ],\n",
              "       [-0.13987446],\n",
              "       [ 1.27299892],\n",
              "       [ 0.21334388],\n",
              "       [ 0.91978057],\n",
              "       [-1.55274785],\n",
              "       [ 0.56656223],\n",
              "       [ 1.62621726],\n",
              "       [-0.49309281],\n",
              "       [-0.13987446],\n",
              "       [ 1.27299892],\n",
              "       [ 1.27299892],\n",
              "       [-1.1995295 ],\n",
              "       [ 0.21334388],\n",
              "       [-0.49309281],\n",
              "       [ 1.62621726],\n",
              "       [-0.84631116],\n",
              "       [-1.55274785],\n",
              "       [-1.1995295 ],\n",
              "       [-0.84631116],\n",
              "       [-0.13987446],\n",
              "       [ 0.91978057],\n",
              "       [ 1.27299892],\n",
              "       [ 0.91978057],\n",
              "       [ 0.56656223],\n",
              "       [-0.13987446],\n",
              "       [-0.49309281],\n",
              "       [ 0.91978057],\n",
              "       [ 1.27299892],\n",
              "       [ 0.56656223],\n",
              "       [-0.13987446],\n",
              "       [-0.49309281],\n",
              "       [ 0.56656223],\n",
              "       [ 0.91978057],\n",
              "       [ 0.91978057],\n",
              "       [ 1.27299892],\n",
              "       [ 0.56656223],\n",
              "       [ 0.56656223],\n",
              "       [ 0.56656223],\n",
              "       [-0.84631116],\n",
              "       [ 0.21334388],\n",
              "       [-1.1995295 ],\n",
              "       [-1.55274785],\n",
              "       [-1.55274785],\n",
              "       [ 0.21334388],\n",
              "       [-1.1995295 ],\n",
              "       [-1.1995295 ],\n",
              "       [ 0.21334388],\n",
              "       [ 1.62621726],\n",
              "       [-0.49309281],\n",
              "       [ 1.62621726],\n",
              "       [-1.55274785],\n",
              "       [-0.13987446],\n",
              "       [-1.55274785],\n",
              "       [-0.84631116],\n",
              "       [ 0.91978057],\n",
              "       [-1.55274785],\n",
              "       [-1.1995295 ],\n",
              "       [ 1.62621726],\n",
              "       [-0.84631116],\n",
              "       [-1.1995295 ],\n",
              "       [-1.55274785],\n",
              "       [ 1.27299892],\n",
              "       [-0.49309281],\n",
              "       [-0.49309281],\n",
              "       [-1.1995295 ],\n",
              "       [-0.49309281],\n",
              "       [ 1.27299892],\n",
              "       [-1.1995295 ],\n",
              "       [ 0.91978057],\n",
              "       [-1.1995295 ],\n",
              "       [-0.49309281],\n",
              "       [-1.55274785],\n",
              "       [ 0.21334388],\n",
              "       [ 0.56656223],\n",
              "       [-0.49309281],\n",
              "       [ 0.56656223],\n",
              "       [-1.55274785],\n",
              "       [-1.1995295 ],\n",
              "       [-0.84631116],\n",
              "       [ 1.27299892],\n",
              "       [ 0.21334388],\n",
              "       [ 0.91978057],\n",
              "       [-0.13987446],\n",
              "       [ 0.21334388],\n",
              "       [ 1.62621726],\n",
              "       [-0.49309281],\n",
              "       [ 1.62621726],\n",
              "       [ 0.91978057],\n",
              "       [ 0.56656223],\n",
              "       [-1.1995295 ],\n",
              "       [ 0.21334388],\n",
              "       [ 0.56656223],\n",
              "       [-1.55274785],\n",
              "       [ 1.27299892],\n",
              "       [ 1.62621726],\n",
              "       [ 0.56656223],\n",
              "       [-1.1995295 ],\n",
              "       [ 1.62621726],\n",
              "       [-0.49309281],\n",
              "       [ 1.62621726],\n",
              "       [-0.13987446],\n",
              "       [-0.13987446],\n",
              "       [-0.84631116],\n",
              "       [ 1.27299892],\n",
              "       [ 0.56656223],\n",
              "       [ 0.56656223],\n",
              "       [ 1.27299892],\n",
              "       [ 1.27299892],\n",
              "       [-0.84631116],\n",
              "       [ 0.21334388],\n",
              "       [-0.84631116],\n",
              "       [-0.84631116],\n",
              "       [-0.84631116],\n",
              "       [ 1.62621726],\n",
              "       [ 0.56656223],\n",
              "       [-0.49309281],\n",
              "       [ 1.27299892],\n",
              "       [ 0.56656223],\n",
              "       [-0.49309281],\n",
              "       [-0.84631116],\n",
              "       [ 0.21334388],\n",
              "       [-1.1995295 ],\n",
              "       [ 0.21334388],\n",
              "       [-1.1995295 ],\n",
              "       [ 1.27299892],\n",
              "       [-0.84631116],\n",
              "       [ 1.27299892],\n",
              "       [-0.13987446],\n",
              "       [-1.1995295 ],\n",
              "       [ 0.56656223],\n",
              "       [ 0.56656223],\n",
              "       [-1.55274785],\n",
              "       [-0.84631116],\n",
              "       [-0.49309281],\n",
              "       [ 0.91978057],\n",
              "       [ 1.62621726],\n",
              "       [-0.84631116],\n",
              "       [-0.84631116],\n",
              "       [-1.1995295 ],\n",
              "       [ 1.62621726],\n",
              "       [-1.1995295 ],\n",
              "       [-1.55274785],\n",
              "       [-1.1995295 ],\n",
              "       [ 0.21334388],\n",
              "       [-0.84631116],\n",
              "       [ 1.62621726],\n",
              "       [-0.84631116],\n",
              "       [-0.49309281],\n",
              "       [ 1.62621726],\n",
              "       [-0.84631116],\n",
              "       [ 1.27299892],\n",
              "       [-1.1995295 ],\n",
              "       [ 0.21334388],\n",
              "       [-0.13987446],\n",
              "       [-0.49309281],\n",
              "       [ 1.62621726],\n",
              "       [ 0.91978057],\n",
              "       [ 0.21334388],\n",
              "       [-1.1995295 ],\n",
              "       [-0.13987446],\n",
              "       [ 0.21334388],\n",
              "       [-0.84631116],\n",
              "       [-0.49309281],\n",
              "       [-0.84631116],\n",
              "       [ 0.21334388],\n",
              "       [ 1.27299892],\n",
              "       [-0.13987446],\n",
              "       [ 1.27299892],\n",
              "       [-0.49309281],\n",
              "       [-0.84631116],\n",
              "       [-0.84631116],\n",
              "       [-0.49309281],\n",
              "       [-0.49309281],\n",
              "       [-0.13987446],\n",
              "       [ 1.27299892],\n",
              "       [-0.13987446],\n",
              "       [ 0.21334388],\n",
              "       [-0.13987446],\n",
              "       [-0.84631116],\n",
              "       [-1.1995295 ],\n",
              "       [-1.1995295 ],\n",
              "       [-0.13987446],\n",
              "       [ 0.21334388],\n",
              "       [ 1.62621726],\n",
              "       [ 0.91978057],\n",
              "       [-1.55274785],\n",
              "       [-0.49309281],\n",
              "       [-0.13987446],\n",
              "       [-0.13987446],\n",
              "       [-0.49309281]])"
            ]
          },
          "metadata": {},
          "execution_count": 41
        }
      ]
    },
    {
      "cell_type": "code",
      "metadata": {
        "id": "Q-TdaM01by5S",
        "colab": {
          "base_uri": "https://localhost:8080/"
        },
        "outputId": "186a2627-cf3e-4cad-b27d-e8b9ee6d907f"
      },
      "source": [
        "print(v_1_scaled.max())\n",
        "print(v_1_scaled.min())\n",
        "\n",
        "print(v_2_scaled.max())\n",
        "print(v_2_scaled.min())"
      ],
      "execution_count": null,
      "outputs": [
        {
          "output_type": "stream",
          "name": "stdout",
          "text": [
            "1.777407550854466\n",
            "-1.6800575407720781\n",
            "1.6262172617024064\n",
            "-1.5527478458826625\n"
          ]
        }
      ]
    },
    {
      "cell_type": "code",
      "metadata": {
        "id": "6UC4SNUdXIru",
        "colab": {
          "base_uri": "https://localhost:8080/"
        },
        "outputId": "bf569c69-6966-4f36-a160-b60810abad3a"
      },
      "source": [
        "# fit-transform сразу обучается и преобразует данные\n",
        "X_scaled = scaler.fit_transform(X)\n",
        "X_scaled"
      ],
      "execution_count": null,
      "outputs": [
        {
          "output_type": "execute_result",
          "data": {
            "text/plain": [
              "array([[-1.57498504e+00, -6.03836956e-01],\n",
              "       [ 7.73951595e-01, -5.66646367e-02],\n",
              "       [ 1.33118219e+00, -2.08267872e+00],\n",
              "       [ 2.96495970e-01,  1.82169609e-01],\n",
              "       [ 2.10730008e+00, -1.50800871e-01],\n",
              "       [ 2.11614507e-01, -1.42074626e+00],\n",
              "       [ 5.52865930e-01,  1.66828682e-01],\n",
              "       [ 1.35595659e+00,  1.44244285e+00],\n",
              "       [ 5.47317863e-01, -2.98034106e-02],\n",
              "       [ 1.70533357e+00,  4.82203340e-01],\n",
              "       [ 1.33369615e-02,  1.02505398e-01],\n",
              "       [ 8.34048338e-01,  2.23340599e-01],\n",
              "       [ 1.46824777e+00,  1.30961295e+00],\n",
              "       [ 1.05063715e+00, -1.63499069e-01],\n",
              "       [-8.82557914e-01,  3.52932051e-01],\n",
              "       [ 2.91156615e-01, -5.43437654e-01],\n",
              "       [ 4.26203241e-01,  3.50758216e-01],\n",
              "       [-1.43035709e+00,  8.38824876e-01],\n",
              "       [ 4.59306473e-01,  9.46779669e-01],\n",
              "       [ 1.09395449e+00, -6.76169009e-01],\n",
              "       [ 8.79271805e-01,  5.60703428e-01],\n",
              "       [ 6.86780589e-01,  1.55037617e+00],\n",
              "       [-7.32045843e-01, -1.47061237e+00],\n",
              "       [-6.13592190e-01,  5.52774498e-01],\n",
              "       [ 1.16958841e+00,  1.57428200e+00],\n",
              "       [-9.39722317e-01, -1.04719507e+00],\n",
              "       [-1.40170428e+00, -3.55868183e-01],\n",
              "       [-1.39298379e+00, -1.62901462e+00],\n",
              "       [ 8.27172712e-01,  7.02179673e-01],\n",
              "       [-3.30454276e-01,  1.30845884e+00],\n",
              "       [ 3.58951009e-01, -1.48720788e+00],\n",
              "       [-2.22625010e-01, -8.54869179e-02],\n",
              "       [-2.98583247e-01, -1.33662576e+00],\n",
              "       [-6.93089613e-01, -1.90360685e-01],\n",
              "       [ 9.36759154e-01,  8.94480165e-01],\n",
              "       [-1.57153812e-01, -4.21732714e-01],\n",
              "       [-3.49673872e-02, -9.08146944e-01],\n",
              "       [ 3.21093947e-01,  6.63187172e-01],\n",
              "       [ 6.18059658e-01,  3.82051542e-01],\n",
              "       [-6.02726152e-01,  1.21544565e+00],\n",
              "       [ 3.40164790e-01, -1.00202453e-01],\n",
              "       [-1.34235732e+00,  4.89650820e-01],\n",
              "       [ 2.55501337e-02,  3.40610352e-01],\n",
              "       [ 1.87501741e+00, -5.08468787e-01],\n",
              "       [-1.27622793e+00, -6.30639078e-01],\n",
              "       [ 8.45169847e-01,  1.50276756e+00],\n",
              "       [ 2.12901474e+00,  1.81554336e+00],\n",
              "       [ 4.08330716e-01,  1.68876637e-01],\n",
              "       [ 1.02664336e+00,  1.13762572e+00],\n",
              "       [-5.97436654e-01, -2.69170118e-01],\n",
              "       [-8.99391572e-01, -4.38654024e-01],\n",
              "       [-4.17611379e-01, -2.71160178e-01],\n",
              "       [-2.31447849e-01,  1.36432238e-01],\n",
              "       [-1.83001860e+00, -1.01434945e+00],\n",
              "       [ 6.26074096e-01,  6.84406662e-01],\n",
              "       [-3.65347200e-01, -1.18028610e+00],\n",
              "       [ 6.49159068e-01,  2.34415894e-01],\n",
              "       [-4.50196515e-01,  7.45819647e-01],\n",
              "       [-1.18189017e-01,  5.85717176e-01],\n",
              "       [-2.51084353e-01,  5.22002902e-01],\n",
              "       [-1.06551519e+00, -1.98527966e-01],\n",
              "       [ 4.55062793e-02, -3.47789281e-02],\n",
              "       [-7.38737886e-01, -7.36136888e-01],\n",
              "       [-9.74914562e-01, -7.68244804e-01],\n",
              "       [ 4.24872542e-01, -4.34387027e-01],\n",
              "       [ 7.43101134e-01,  5.36236911e-01],\n",
              "       [-1.68812220e+00,  1.12713628e-01],\n",
              "       [ 1.10864454e+00,  1.90979855e+00],\n",
              "       [ 1.42116889e+00,  1.75689274e+00],\n",
              "       [-2.32280982e+00,  9.95805638e-02],\n",
              "       [ 1.38132195e+00,  1.63728657e+00],\n",
              "       [-1.47054952e-01,  5.22189517e-01],\n",
              "       [ 1.04431549e+00,  2.78801928e-01],\n",
              "       [-9.38713854e-01, -9.83237799e-01],\n",
              "       [ 5.07010617e-01, -8.54239896e-02],\n",
              "       [ 6.32282133e-01,  6.80675066e-01],\n",
              "       [ 6.57249591e-01,  9.73385256e-01],\n",
              "       [ 6.15313955e-01,  1.05428054e+00],\n",
              "       [ 5.70043019e-01,  3.24267605e-01],\n",
              "       [-8.80512089e-01, -7.31145935e-01],\n",
              "       [ 1.33890133e-01, -1.18230080e+00],\n",
              "       [ 1.38513427e+00,  6.21758332e-01],\n",
              "       [ 8.44358525e-01,  3.86242022e-01],\n",
              "       [-3.53510693e-01,  1.69294886e+00],\n",
              "       [ 2.13057343e-01, -8.03804739e-01],\n",
              "       [ 2.32289340e+00, -4.03514480e-01],\n",
              "       [-6.90893997e-01, -1.20935521e+00],\n",
              "       [-5.97229238e-01, -8.78652448e-01],\n",
              "       [-6.82569276e-01, -5.29443877e-01],\n",
              "       [ 1.21061290e+00,  4.18501915e-01],\n",
              "       [ 1.78791315e-02,  7.63601850e-01],\n",
              "       [ 1.44817639e+00,  1.07702989e+00],\n",
              "       [ 5.84624898e-01,  1.93472407e+00],\n",
              "       [ 7.12279728e-01,  4.01642491e-03],\n",
              "       [-8.16221235e-01, -1.20794923e+00],\n",
              "       [ 1.25045085e+00,  9.47945096e-01],\n",
              "       [-3.73778036e-01,  2.30942952e-01],\n",
              "       [ 7.74872651e-02, -1.30827282e+00],\n",
              "       [-7.27624772e-01,  3.52826070e-01],\n",
              "       [ 9.72289178e-01, -3.87707799e-01],\n",
              "       [ 4.37680979e-01,  1.07274090e-01],\n",
              "       [ 1.26620010e+00,  2.48727276e+00],\n",
              "       [ 7.00284479e-01, -1.15799158e+00],\n",
              "       [-5.02047760e-01,  7.15166992e-01],\n",
              "       [ 1.90025182e+00,  6.36539337e-01],\n",
              "       [-8.13696582e-02, -5.83660499e-01],\n",
              "       [ 1.39929533e-01, -1.62125558e-01],\n",
              "       [-3.12693750e-01,  5.34241128e-01],\n",
              "       [-1.61429814e+00, -6.56464016e-01],\n",
              "       [ 9.57235584e-01,  1.88056116e+00],\n",
              "       [ 1.01369095e+00, -5.11244595e-01],\n",
              "       [ 1.01598486e+00,  1.42565383e+00],\n",
              "       [ 2.29844962e-01, -2.20408808e-01],\n",
              "       [-1.37735989e+00, -2.05823716e-01],\n",
              "       [-3.52541851e-02,  1.25011125e+00],\n",
              "       [ 5.04347537e-01, -1.94334564e+00],\n",
              "       [ 3.82506831e-02, -1.60607302e+00],\n",
              "       [ 4.33570781e-01,  1.34668185e+00],\n",
              "       [-3.27047568e-01, -1.53066514e+00],\n",
              "       [ 7.30035041e-03, -2.22026154e-02],\n",
              "       [-2.24074747e-01,  2.57016409e-01],\n",
              "       [ 6.44098299e-01,  3.11876078e-01],\n",
              "       [-2.48696639e-01, -7.47454992e-01],\n",
              "       [ 7.20710909e-01,  7.06498016e-01],\n",
              "       [-5.76032025e-01,  7.59821988e-01],\n",
              "       [-6.10961307e-01, -6.41238577e-01],\n",
              "       [-7.08929509e-01,  1.15414282e+00],\n",
              "       [-2.24177485e-01, -2.32089798e+00],\n",
              "       [-2.46271851e+00, -1.82802236e+00],\n",
              "       [ 2.12255294e-01,  1.05543358e+00],\n",
              "       [ 4.36307536e-01, -1.78666669e+00],\n",
              "       [-3.45340728e-01, -1.63681402e+00],\n",
              "       [-1.05755975e-01, -7.77624117e-01],\n",
              "       [-2.54054060e+00,  5.72773847e-02],\n",
              "       [ 9.82489442e-01,  4.45565876e-01],\n",
              "       [-1.03720144e+00, -1.27484768e+00],\n",
              "       [ 1.99736830e-01,  2.95051107e-01],\n",
              "       [-2.90199197e-01,  3.57705466e-01],\n",
              "       [-1.81027946e+00,  2.83285642e-01],\n",
              "       [-1.01277225e+00, -8.66024122e-01],\n",
              "       [-1.47657594e+00, -1.00621910e+00],\n",
              "       [ 8.04381074e-01, -1.73506534e-01],\n",
              "       [ 3.91750243e-01, -4.17108713e-01],\n",
              "       [-1.02393369e+00,  8.51933860e-01],\n",
              "       [-1.72579938e+00,  1.99867544e-01],\n",
              "       [ 1.69733043e-01, -1.09217836e+00],\n",
              "       [ 2.03986310e-01, -1.00282286e+00],\n",
              "       [ 1.10206477e+00,  1.55720798e+00],\n",
              "       [-6.01015904e-01,  3.04357232e-01],\n",
              "       [-1.65328594e+00, -1.17888603e+00],\n",
              "       [-5.01049307e-01,  1.58006520e-01],\n",
              "       [ 1.49221182e-01, -1.87173578e+00],\n",
              "       [-4.34731630e-01,  3.84331166e-01],\n",
              "       [-1.62757179e+00, -1.38356521e+00],\n",
              "       [ 1.98708736e+00,  9.78760897e-01],\n",
              "       [-9.93715774e-01,  3.07524907e-01],\n",
              "       [ 1.47744868e+00, -1.06666209e+00],\n",
              "       [-1.74414469e-03,  2.03415241e-01],\n",
              "       [ 2.12335685e+00,  5.97001194e-01],\n",
              "       [-1.61840679e+00,  3.18684124e-01],\n",
              "       [-7.33348427e-01, -5.17286137e-01],\n",
              "       [-3.00325050e-01, -6.29916505e-01],\n",
              "       [ 1.83907431e+00,  1.46990005e+00],\n",
              "       [ 8.69848358e-03, -1.18458921e+00],\n",
              "       [ 6.19097444e-01,  1.09776918e+00],\n",
              "       [ 1.77705294e-01,  9.71972435e-01],\n",
              "       [ 3.59578597e-01,  5.89682432e-01],\n",
              "       [-5.20966748e-01, -1.58813404e-01],\n",
              "       [ 4.05977816e-01,  1.98803417e+00],\n",
              "       [-1.07539411e+00, -3.74364650e-01],\n",
              "       [-1.15143799e+00,  8.15566145e-01],\n",
              "       [-1.09723693e+00,  7.78768864e-02],\n",
              "       [ 2.43502812e-01,  1.81036244e+00],\n",
              "       [ 9.58316393e-01,  1.14563818e+00],\n",
              "       [-1.15256716e-01, -3.70800784e-01],\n",
              "       [-1.23980116e+00, -5.64553556e-01],\n",
              "       [-1.04916992e+00, -1.46696051e+00],\n",
              "       [-1.87376654e-01, -2.48698379e+00],\n",
              "       [-1.12288379e+00, -9.00805381e-01],\n",
              "       [-2.20070998e+00, -1.88084713e+00],\n",
              "       [ 1.16238602e+00,  9.31809535e-01],\n",
              "       [ 8.82768168e-01,  3.54934072e-03],\n",
              "       [-1.05204963e+00, -1.91480046e+00],\n",
              "       [-1.89284218e+00, -5.84981968e-01],\n",
              "       [ 5.34035130e-01, -1.75738793e+00],\n",
              "       [-8.56520414e-01, -4.02346055e-01],\n",
              "       [-2.93444516e-01, -1.90021581e+00],\n",
              "       [ 8.90525601e-01,  1.13349544e+00],\n",
              "       [ 3.65560282e-01,  6.10576865e-01],\n",
              "       [ 1.45152674e+00,  7.59046359e-01],\n",
              "       [-2.96178534e-01,  3.96263054e-01],\n",
              "       [-3.28434886e-01,  3.17500123e-01],\n",
              "       [-1.50853233e+00,  7.82647704e-01],\n",
              "       [ 5.53351778e-01,  2.79689462e-02],\n",
              "       [ 6.91673130e-01,  8.04438399e-01],\n",
              "       [-1.65332355e+00, -9.78017431e-01],\n",
              "       [ 8.41451964e-01,  1.73198363e+00],\n",
              "       [-1.08814885e+00, -1.07090044e+00],\n",
              "       [ 1.01796604e+00, -1.08173617e+00],\n",
              "       [-1.86404373e+00, -1.02291108e+00]])"
            ]
          },
          "metadata": {},
          "execution_count": 43
        }
      ]
    },
    {
      "cell_type": "code",
      "metadata": {
        "id": "TRnNnC3kXbcr",
        "colab": {
          "base_uri": "https://localhost:8080/",
          "height": 485
        },
        "outputId": "c67ce93c-78b4-4b07-daa5-10d0701abf15"
      },
      "source": [
        "plt.scatter(X_scaled[:, 0], X_scaled[:, 1],cmap='autumn', s=60)"
      ],
      "execution_count": null,
      "outputs": [
        {
          "output_type": "stream",
          "name": "stderr",
          "text": [
            "<ipython-input-45-2db0c5f3ae5e>:1: UserWarning: No data for colormapping provided via 'c'. Parameters 'cmap' will be ignored\n",
            "  plt.scatter(X_scaled[:, 0], X_scaled[:, 1],cmap='autumn', s=60)\n"
          ]
        },
        {
          "output_type": "execute_result",
          "data": {
            "text/plain": [
              "<matplotlib.collections.PathCollection at 0x7f162772d4f0>"
            ]
          },
          "metadata": {},
          "execution_count": 45
        },
        {
          "output_type": "display_data",
          "data": {
            "text/plain": [
              "<Figure size 640x480 with 1 Axes>"
            ],
            "image/png": "[encoded data removed]"
          },
          "metadata": {}
        }
      ]
    },
    {
      "cell_type": "code",
      "metadata": {
        "id": "XftqUwUlYLIj"
      },
      "source": [
        "from sklearn.cluster import KMeans"
      ],
      "execution_count": null,
      "outputs": []
    },
    {
      "cell_type": "code",
      "metadata": {
        "id": "7PkhGAB-YN1C",
        "colab": {
          "base_uri": "https://localhost:8080/"
        },
        "outputId": "dd6f5163-df9c-411e-861a-2c7873e6cc43"
      },
      "source": [
        "# явно указываем количество кластеров\n",
        "kmeans = KMeans(n_clusters=3)\n",
        "# fit_predict обучается на данных и каждому объекту присваивает кластер\n",
        "clusters = kmeans.fit_predict(X_scaled)\n",
        "clusters"
      ],
      "execution_count": null,
      "outputs": [
        {
          "output_type": "stream",
          "name": "stderr",
          "text": [
            "/usr/local/lib/python3.9/dist-packages/sklearn/cluster/_kmeans.py:870: FutureWarning: The default value of `n_init` will change from 10 to 'auto' in 1.4. Set the value of `n_init` explicitly to suppress the warning\n",
            "  warnings.warn(\n"
          ]
        },
        {
          "output_type": "execute_result",
          "data": {
            "text/plain": [
              "array([2, 0, 1, 0, 0, 1, 0, 0, 0, 0, 0, 0, 0, 0, 2, 1, 0, 2, 0, 1, 0, 0,\n",
              "       1, 2, 0, 2, 2, 1, 0, 0, 1, 2, 1, 2, 0, 1, 1, 0, 0, 2, 0, 2, 0, 0,\n",
              "       2, 0, 0, 0, 0, 2, 2, 2, 2, 2, 0, 1, 0, 2, 0, 2, 2, 2, 2, 2, 1, 0,\n",
              "       2, 0, 0, 2, 0, 0, 0, 2, 0, 0, 0, 0, 0, 2, 1, 0, 0, 0, 1, 0, 1, 1,\n",
              "       2, 0, 0, 0, 0, 0, 1, 0, 2, 1, 2, 0, 0, 0, 1, 2, 0, 1, 1, 2, 2, 0,\n",
              "       1, 0, 1, 2, 0, 1, 1, 0, 1, 2, 2, 0, 1, 0, 2, 2, 2, 1, 2, 0, 1, 1,\n",
              "       1, 2, 0, 1, 0, 2, 2, 2, 2, 0, 1, 2, 2, 1, 1, 0, 2, 2, 2, 1, 2, 2,\n",
              "       0, 2, 1, 0, 0, 2, 2, 1, 0, 1, 0, 0, 0, 2, 0, 2, 2, 2, 0, 0, 1, 2,\n",
              "       1, 1, 2, 2, 0, 0, 1, 2, 1, 2, 1, 0, 0, 0, 2, 2, 2, 0, 0, 2, 0, 2,\n",
              "       1, 2], dtype=int32)"
            ]
          },
          "metadata": {},
          "execution_count": 49
        }
      ]
    },
    {
      "cell_type": "code",
      "metadata": {
        "id": "EIhtpQU4YXiR",
        "colab": {
          "base_uri": "https://localhost:8080/",
          "height": 448
        },
        "outputId": "1a3308d5-bfc3-47ea-c237-a3a32cc574f7"
      },
      "source": [
        "plt.scatter(X_scaled[:, 0], X_scaled[:, 1], cmap='autumn', c=clusters, s=60)"
      ],
      "execution_count": null,
      "outputs": [
        {
          "output_type": "execute_result",
          "data": {
            "text/plain": [
              "<matplotlib.collections.PathCollection at 0x7f16266917c0>"
            ]
          },
          "metadata": {},
          "execution_count": 50
        },
        {
          "output_type": "display_data",
          "data": {
            "text/plain": [
              "<Figure size 640x480 with 1 Axes>"
            ],
            "image/png": "[encoded data removed]"
          },
          "metadata": {}
        }
      ]
    },
    {
      "cell_type": "code",
      "metadata": {
        "id": "JakzZ_1WYbgI",
        "colab": {
          "base_uri": "https://localhost:8080/"
        },
        "outputId": "484add6a-65ef-4169-846c-3043b0027ad6"
      },
      "source": [
        "# строим график локтя\n",
        "\n",
        "# создаем список для инерции\n",
        "k_inertia = []\n",
        "# задаем диапазон кластеров\n",
        "ks = range(1, 20)\n",
        "\n",
        "for k in ks:\n",
        "    clf_kmeans = KMeans(n_clusters=k)\n",
        "    clf_kmeans.fit(X_scaled)\n",
        "    # добавляем инерцию каждой модели в список\n",
        "    k_inertia.append(clf_kmeans.inertia_)"
      ],
      "execution_count": null,
      "outputs": [
        {
          "output_type": "stream",
          "name": "stderr",
          "text": [
            "/usr/local/lib/python3.9/dist-packages/sklearn/cluster/_kmeans.py:870: FutureWarning: The default value of `n_init` will change from 10 to 'auto' in 1.4. Set the value of `n_init` explicitly to suppress the warning\n",
            "  warnings.warn(\n",
            "/usr/local/lib/python3.9/dist-packages/sklearn/cluster/_kmeans.py:870: FutureWarning: The default value of `n_init` will change from 10 to 'auto' in 1.4. Set the value of `n_init` explicitly to suppress the warning\n",
            "  warnings.warn(\n",
            "/usr/local/lib/python3.9/dist-packages/sklearn/cluster/_kmeans.py:870: FutureWarning: The default value of `n_init` will change from 10 to 'auto' in 1.4. Set the value of `n_init` explicitly to suppress the warning\n",
            "  warnings.warn(\n",
            "/usr/local/lib/python3.9/dist-packages/sklearn/cluster/_kmeans.py:870: FutureWarning: The default value of `n_init` will change from 10 to 'auto' in 1.4. Set the value of `n_init` explicitly to suppress the warning\n",
            "  warnings.warn(\n",
            "/usr/local/lib/python3.9/dist-packages/sklearn/cluster/_kmeans.py:870: FutureWarning: The default value of `n_init` will change from 10 to 'auto' in 1.4. Set the value of `n_init` explicitly to suppress the warning\n",
            "  warnings.warn(\n",
            "/usr/local/lib/python3.9/dist-packages/sklearn/cluster/_kmeans.py:870: FutureWarning: The default value of `n_init` will change from 10 to 'auto' in 1.4. Set the value of `n_init` explicitly to suppress the warning\n",
            "  warnings.warn(\n",
            "/usr/local/lib/python3.9/dist-packages/sklearn/cluster/_kmeans.py:870: FutureWarning: The default value of `n_init` will change from 10 to 'auto' in 1.4. Set the value of `n_init` explicitly to suppress the warning\n",
            "  warnings.warn(\n",
            "/usr/local/lib/python3.9/dist-packages/sklearn/cluster/_kmeans.py:870: FutureWarning: The default value of `n_init` will change from 10 to 'auto' in 1.4. Set the value of `n_init` explicitly to suppress the warning\n",
            "  warnings.warn(\n",
            "/usr/local/lib/python3.9/dist-packages/sklearn/cluster/_kmeans.py:870: FutureWarning: The default value of `n_init` will change from 10 to 'auto' in 1.4. Set the value of `n_init` explicitly to suppress the warning\n",
            "  warnings.warn(\n",
            "/usr/local/lib/python3.9/dist-packages/sklearn/cluster/_kmeans.py:870: FutureWarning: The default value of `n_init` will change from 10 to 'auto' in 1.4. Set the value of `n_init` explicitly to suppress the warning\n",
            "  warnings.warn(\n",
            "/usr/local/lib/python3.9/dist-packages/sklearn/cluster/_kmeans.py:870: FutureWarning: The default value of `n_init` will change from 10 to 'auto' in 1.4. Set the value of `n_init` explicitly to suppress the warning\n",
            "  warnings.warn(\n",
            "/usr/local/lib/python3.9/dist-packages/sklearn/cluster/_kmeans.py:870: FutureWarning: The default value of `n_init` will change from 10 to 'auto' in 1.4. Set the value of `n_init` explicitly to suppress the warning\n",
            "  warnings.warn(\n",
            "/usr/local/lib/python3.9/dist-packages/sklearn/cluster/_kmeans.py:870: FutureWarning: The default value of `n_init` will change from 10 to 'auto' in 1.4. Set the value of `n_init` explicitly to suppress the warning\n",
            "  warnings.warn(\n",
            "/usr/local/lib/python3.9/dist-packages/sklearn/cluster/_kmeans.py:870: FutureWarning: The default value of `n_init` will change from 10 to 'auto' in 1.4. Set the value of `n_init` explicitly to suppress the warning\n",
            "  warnings.warn(\n",
            "/usr/local/lib/python3.9/dist-packages/sklearn/cluster/_kmeans.py:870: FutureWarning: The default value of `n_init` will change from 10 to 'auto' in 1.4. Set the value of `n_init` explicitly to suppress the warning\n",
            "  warnings.warn(\n",
            "/usr/local/lib/python3.9/dist-packages/sklearn/cluster/_kmeans.py:870: FutureWarning: The default value of `n_init` will change from 10 to 'auto' in 1.4. Set the value of `n_init` explicitly to suppress the warning\n",
            "  warnings.warn(\n",
            "/usr/local/lib/python3.9/dist-packages/sklearn/cluster/_kmeans.py:870: FutureWarning: The default value of `n_init` will change from 10 to 'auto' in 1.4. Set the value of `n_init` explicitly to suppress the warning\n",
            "  warnings.warn(\n",
            "/usr/local/lib/python3.9/dist-packages/sklearn/cluster/_kmeans.py:870: FutureWarning: The default value of `n_init` will change from 10 to 'auto' in 1.4. Set the value of `n_init` explicitly to suppress the warning\n",
            "  warnings.warn(\n",
            "/usr/local/lib/python3.9/dist-packages/sklearn/cluster/_kmeans.py:870: FutureWarning: The default value of `n_init` will change from 10 to 'auto' in 1.4. Set the value of `n_init` explicitly to suppress the warning\n",
            "  warnings.warn(\n"
          ]
        }
      ]
    },
    {
      "cell_type": "code",
      "metadata": {
        "id": "BL2K84DOYzQp",
        "colab": {
          "base_uri": "https://localhost:8080/",
          "height": 467
        },
        "outputId": "4d9d775e-fbc4-416d-85f2-b8b1610feabf"
      },
      "source": [
        "plt.plot(ks, k_inertia)\n",
        "plt.plot(ks, k_inertia ,'ro')\n",
        "plt.xlabel('Количество кластеров')\n",
        "plt.ylabel('Инерция')"
      ],
      "execution_count": null,
      "outputs": [
        {
          "output_type": "execute_result",
          "data": {
            "text/plain": [
              "Text(0, 0.5, 'Инерция')"
            ]
          },
          "metadata": {},
          "execution_count": 52
        },
        {
          "output_type": "display_data",
          "data": {
            "text/plain": [
              "<Figure size 640x480 with 1 Axes>"
            ],
            "image/png": "[encoded data removed]"
          },
          "metadata": {}
        }
      ]
    },
    {
      "cell_type": "markdown",
      "metadata": {
        "id": "07VGmeIrby5U"
      },
      "source": [
        "Иерархическая кластеризация"
      ]
    },
    {
      "cell_type": "code",
      "metadata": {
        "id": "wGWt37snY1ak"
      },
      "source": [
        "from scipy.spatial.distance import pdist\n",
        "from scipy.cluster import hierarchy"
      ],
      "execution_count": null,
      "outputs": []
    },
    {
      "cell_type": "code",
      "metadata": {
        "id": "UL2QOOH_Y8vL",
        "colab": {
          "base_uri": "https://localhost:8080/",
          "height": 742
        },
        "outputId": "e208736b-13f6-4020-cc6c-71bc44d49300"
      },
      "source": [
        "# строим дендрограмму\n",
        "distance_mat = pdist(X_scaled) # pdist посчитает нам матрицу попарных расстояний между точками\n",
        "# Z = hierarchy.linkage(distance_mat) # linkage — реализация агломеративного алгоритма\n",
        "Z = hierarchy.linkage(distance_mat, 'ward')\n",
        "plt.figure(figsize=(20, 9))\n",
        "dn = hierarchy.dendrogram(Z)"
      ],
      "execution_count": null,
      "outputs": [
        {
          "output_type": "display_data",
          "data": {
            "text/plain": [
              "<Figure size 2000x900 with 1 Axes>"
            ],
            "image/png": "[encoded data removed]"
          },
          "metadata": {}
        }
      ]
    },
    {
      "cell_type": "code",
      "metadata": {
        "id": "K_0ejaBzZBIv"
      },
      "source": [
        "# делаем уже кластеризацию по факту\n",
        "from sklearn.cluster import AgglomerativeClustering"
      ],
      "execution_count": null,
      "outputs": []
    },
    {
      "cell_type": "code",
      "metadata": {
        "id": "wjEgXrmpZVrY",
        "colab": {
          "base_uri": "https://localhost:8080/"
        },
        "outputId": "5a78f921-e047-4391-8ac5-46d608dc2e52"
      },
      "source": [
        "aglo = AgglomerativeClustering(n_clusters=3)\n",
        "clusters = aglo.fit_predict(X_scaled)\n",
        "clusters"
      ],
      "execution_count": null,
      "outputs": [
        {
          "output_type": "execute_result",
          "data": {
            "text/plain": [
              "array([0, 1, 2, 1, 2, 2, 1, 1, 1, 1, 1, 1, 1, 1, 0, 1, 1, 0, 1, 1, 1, 1,\n",
              "       0, 0, 1, 0, 0, 0, 1, 0, 2, 1, 2, 0, 1, 0, 0, 1, 1, 0, 1, 0, 1, 2,\n",
              "       0, 1, 1, 1, 1, 0, 0, 0, 0, 0, 1, 2, 1, 0, 0, 0, 0, 1, 0, 0, 1, 1,\n",
              "       0, 1, 1, 0, 1, 0, 1, 0, 1, 1, 1, 1, 1, 0, 2, 1, 1, 0, 2, 2, 0, 0,\n",
              "       0, 1, 1, 1, 1, 1, 0, 1, 0, 2, 0, 1, 1, 1, 2, 0, 1, 0, 1, 0, 0, 1,\n",
              "       1, 1, 1, 0, 0, 2, 2, 1, 2, 1, 0, 1, 0, 1, 0, 0, 0, 2, 0, 1, 2, 2,\n",
              "       0, 0, 1, 0, 1, 0, 0, 0, 0, 1, 1, 0, 0, 2, 2, 1, 0, 0, 0, 2, 0, 0,\n",
              "       1, 0, 2, 1, 1, 0, 0, 0, 1, 2, 1, 1, 1, 0, 1, 0, 0, 0, 1, 1, 0, 0,\n",
              "       0, 2, 0, 0, 1, 1, 0, 0, 2, 0, 2, 1, 1, 1, 0, 0, 0, 1, 1, 0, 1, 0,\n",
              "       2, 0])"
            ]
          },
          "metadata": {},
          "execution_count": 58
        }
      ]
    },
    {
      "cell_type": "code",
      "metadata": {
        "id": "Us0SDSD1ZtX7",
        "colab": {
          "base_uri": "https://localhost:8080/",
          "height": 448
        },
        "outputId": "1da426ce-b318-4a7a-f142-7b188ace9347"
      },
      "source": [
        "plt.scatter(X_scaled[:, 0], X_scaled[:, 1],cmap='autumn', c=clusters, s=60)"
      ],
      "execution_count": null,
      "outputs": [
        {
          "output_type": "execute_result",
          "data": {
            "text/plain": [
              "<matplotlib.collections.PathCollection at 0x7f16260b02b0>"
            ]
          },
          "metadata": {},
          "execution_count": 59
        },
        {
          "output_type": "display_data",
          "data": {
            "text/plain": [
              "<Figure size 640x480 with 1 Axes>"
            ],
            "image/png": "[encoded data removed]"
          },
          "metadata": {}
        }
      ]
    },
    {
      "cell_type": "code",
      "metadata": {
        "id": "tPUIlJOaZv5J",
        "colab": {
          "base_uri": "https://localhost:8080/",
          "height": 424
        },
        "outputId": "7aa3e986-3ce8-49fc-971f-f5187e5bd536"
      },
      "source": [
        "df = pd.DataFrame(X)\n",
        "df['y_hat'] = clusters\n",
        "df"
      ],
      "execution_count": null,
      "outputs": [
        {
          "output_type": "execute_result",
          "data": {
            "text/plain": [
              "             0         1  y_hat\n",
              "0    10.006413 -8.482861      0\n",
              "1    11.809285 -6.493156      1\n",
              "2     5.381384 -1.021399      2\n",
              "3     8.095619 -8.572454      1\n",
              "4     9.381054 -5.166187      2\n",
              "..         ...       ...    ...\n",
              "195   2.348124  1.681341      0\n",
              "196   8.080163 -2.339956      1\n",
              "197   2.555477  0.516960      0\n",
              "198  -0.364624  3.932546      2\n",
              "199  12.978407 -7.786901      0\n",
              "\n",
              "[200 rows x 3 columns]"
            ],
            "text/html": [
              "\n",
              "  <div id=\"df-c48c8aea-2ba0-48fb-8dfa-c55e4f0d3672\">\n",
              "    <div class=\"colab-df-container\">\n",
              "      <div>\n",
              "<style scoped>\n",
              "    .dataframe tbody tr th:only-of-type {\n",
              "        vertical-align: middle;\n",
              "    }\n",
              "\n",
              "    .dataframe tbody tr th {\n",
              "        vertical-align: top;\n",
              "    }\n",
              "\n",
              "    .dataframe thead th {\n",
              "        text-align: right;\n",
              "    }\n",
              "</style>\n",
              "<table border=\"1\" class=\"dataframe\">\n",
              "  <thead>\n",
              "    <tr style=\"text-align: right;\">\n",
              "      <th></th>\n",
              "      <th>0</th>\n",
              "      <th>1</th>\n",
              "      <th>y_hat</th>\n",
              "    </tr>\n",
              "  </thead>\n",
              "  <tbody>\n",
              "    <tr>\n",
              "      <th>0</th>\n",
              "      <td>10.006413</td>\n",
              "      <td>-8.482861</td>\n",
              "      <td>0</td>\n",
              "    </tr>\n",
              "    <tr>\n",
              "      <th>1</th>\n",
              "      <td>11.809285</td>\n",
              "      <td>-6.493156</td>\n",
              "      <td>1</td>\n",
              "    </tr>\n",
              "    <tr>\n",
              "      <th>2</th>\n",
              "      <td>5.381384</td>\n",
              "      <td>-1.021399</td>\n",
              "      <td>2</td>\n",
              "    </tr>\n",
              "    <tr>\n",
              "      <th>3</th>\n",
              "      <td>8.095619</td>\n",
              "      <td>-8.572454</td>\n",
              "      <td>1</td>\n",
              "    </tr>\n",
              "    <tr>\n",
              "      <th>4</th>\n",
              "      <td>9.381054</td>\n",
              "      <td>-5.166187</td>\n",
              "      <td>2</td>\n",
              "    </tr>\n",
              "    <tr>\n",
              "      <th>...</th>\n",
              "      <td>...</td>\n",
              "      <td>...</td>\n",
              "      <td>...</td>\n",
              "    </tr>\n",
              "    <tr>\n",
              "      <th>195</th>\n",
              "      <td>2.348124</td>\n",
              "      <td>1.681341</td>\n",
              "      <td>0</td>\n",
              "    </tr>\n",
              "    <tr>\n",
              "      <th>196</th>\n",
              "      <td>8.080163</td>\n",
              "      <td>-2.339956</td>\n",
              "      <td>1</td>\n",
              "    </tr>\n",
              "    <tr>\n",
              "      <th>197</th>\n",
              "      <td>2.555477</td>\n",
              "      <td>0.516960</td>\n",
              "      <td>0</td>\n",
              "    </tr>\n",
              "    <tr>\n",
              "      <th>198</th>\n",
              "      <td>-0.364624</td>\n",
              "      <td>3.932546</td>\n",
              "      <td>2</td>\n",
              "    </tr>\n",
              "    <tr>\n",
              "      <th>199</th>\n",
              "      <td>12.978407</td>\n",
              "      <td>-7.786901</td>\n",
              "      <td>0</td>\n",
              "    </tr>\n",
              "  </tbody>\n",
              "</table>\n",
              "<p>200 rows × 3 columns</p>\n",
              "</div>\n",
              "      <button class=\"colab-df-convert\" onclick=\"convertToInteractive('df-c48c8aea-2ba0-48fb-8dfa-c55e4f0d3672')\"\n",
              "              title=\"Convert this dataframe to an interactive table.\"\n",
              "              style=\"display:none;\">\n",
              "        \n",
              "  <svg xmlns=\"http://www.w3.org/2000/svg\" height=\"24px\"viewBox=\"0 0 24 24\"\n",
              "       width=\"24px\">\n",
              "    <path d=\"M0 0h24v24H0V0z\" fill=\"none\"/>\n",
              "    <path d=\"M18.56 5.44l.94 2.06.94-2.06 2.06-.94-2.06-.94-.94-2.06-.94 2.06-2.06.94zm-11 1L8.5 8.5l.94-2.06 2.06-.94-2.06-.94L8.5 2.5l-.94 2.06-2.06.94zm10 10l.94 2.06.94-2.06 2.06-.94-2.06-.94-.94-2.06-.94 2.06-2.06.94z\"/><path d=\"M17.41 7.96l-1.37-1.37c-.4-.4-.92-.59-1.43-.59-.52 0-1.04.2-1.43.59L10.3 9.45l-7.72 7.72c-.78.78-.78 2.05 0 2.83L4 21.41c.39.39.9.59 1.41.59.51 0 1.02-.2 1.41-.59l7.78-7.78 2.81-2.81c.8-.78.8-2.07 0-2.86zM5.41 20L4 18.59l7.72-7.72 1.47 1.35L5.41 20z\"/>\n",
              "  </svg>\n",
              "      </button>\n",
              "      \n",
              "  <style>\n",
              "    .colab-df-container {\n",
              "      display:flex;\n",
              "      flex-wrap:wrap;\n",
              "      gap: 12px;\n",
              "    }\n",
              "\n",
              "    .colab-df-convert {\n",
              "      background-color: #E8F0FE;\n",
              "      border: none;\n",
              "      border-radius: 50%;\n",
              "      cursor: pointer;\n",
              "      display: none;\n",
              "      fill: #1967D2;\n",
              "      height: 32px;\n",
              "      padding: 0 0 0 0;\n",
              "      width: 32px;\n",
              "    }\n",
              "\n",
              "    .colab-df-convert:hover {\n",
              "      background-color: #E2EBFA;\n",
              "      box-shadow: 0px 1px 2px rgba(60, 64, 67, 0.3), 0px 1px 3px 1px rgba(60, 64, 67, 0.15);\n",
              "      fill: #174EA6;\n",
              "    }\n",
              "\n",
              "    [theme=dark] .colab-df-convert {\n",
              "      background-color: #3B4455;\n",
              "      fill: #D2E3FC;\n",
              "    }\n",
              "\n",
              "    [theme=dark] .colab-df-convert:hover {\n",
              "      background-color: #434B5C;\n",
              "      box-shadow: 0px 1px 3px 1px rgba(0, 0, 0, 0.15);\n",
              "      filter: drop-shadow(0px 1px 2px rgba(0, 0, 0, 0.3));\n",
              "      fill: #FFFFFF;\n",
              "    }\n",
              "  </style>\n",
              "\n",
              "      <script>\n",
              "        const buttonEl =\n",
              "          document.querySelector('#df-c48c8aea-2ba0-48fb-8dfa-c55e4f0d3672 button.colab-df-convert');\n",
              "        buttonEl.style.display =\n",
              "          google.colab.kernel.accessAllowed ? 'block' : 'none';\n",
              "\n",
              "        async function convertToInteractive(key) {\n",
              "          const element = document.querySelector('#df-c48c8aea-2ba0-48fb-8dfa-c55e4f0d3672');\n",
              "          const dataTable =\n",
              "            await google.colab.kernel.invokeFunction('convertToInteractive',\n",
              "                                                     [key], {});\n",
              "          if (!dataTable) return;\n",
              "\n",
              "          const docLinkHtml = 'Like what you see? Visit the ' +\n",
              "            '<a target=\"_blank\" href=https://colab.research.google.com/notebooks/data_table.ipynb>data table notebook</a>'\n",
              "            + ' to learn more about interactive tables.';\n",
              "          element.innerHTML = '';\n",
              "          dataTable['output_type'] = 'display_data';\n",
              "          await google.colab.output.renderOutput(dataTable, element);\n",
              "          const docLink = document.createElement('div');\n",
              "          docLink.innerHTML = docLinkHtml;\n",
              "          element.appendChild(docLink);\n",
              "        }\n",
              "      </script>\n",
              "    </div>\n",
              "  </div>\n",
              "  "
            ]
          },
          "metadata": {},
          "execution_count": 60
        }
      ]
    },
    {
      "cell_type": "code",
      "metadata": {
        "id": "CBOo1CERby5W"
      },
      "source": [],
      "execution_count": null,
      "outputs": []
    }
  ]
}